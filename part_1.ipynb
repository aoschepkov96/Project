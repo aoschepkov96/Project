{
 "cells": [
  {
   "cell_type": "code",
   "execution_count": 1,
   "metadata": {},
   "outputs": [],
   "source": [
    "import pandas as pd ## Обновить pandas до последней версии\n",
    "import numpy as np\n",
    "import math\n",
    "import os\n",
    "import glob\n",
    "import mysql.connector\n",
    "import datetime\n",
    "from mysql.connector import errorcode\n",
    "from sklearn import preprocessing\n",
    "from sklearn import metrics\n",
    "\n",
    "import matplotlib.pyplot as plt\n",
    "import pandas.core.algorithms as algos\n",
    "from pandas import Series\n",
    "import scipy.stats.stats as stats\n",
    "import re\n",
    "import traceback\n",
    "from datetime import date\n",
    "import string\n",
    "from IPython.display import display, HTML\n",
    "\n",
    "from os import listdir\n",
    "from os.path import isfile, join\n",
    "\n",
    "import warnings\n",
    "warnings.filterwarnings(\"ignore\")"
   ]
  },
  {
   "cell_type": "code",
   "execution_count": 2,
   "metadata": {},
   "outputs": [
    {
     "name": "stdout",
     "output_type": "stream",
     "text": [
      "Введите путь папки, в которой будут лежать все ваши файлы (пример формата C:\\Users\\User\\Documents\\Python Scripts\\IT\\Untitled Folder): \n",
      "Ошибка: вы не ввели путь папки\n",
      "Введите путь папки, в которой будут лежать все ваши файлы (пример формата C:\\Users\\User\\Documents\\Python Scripts\\IT\\Untitled Folder): C:\\Users\\plaps\\Desktop\\IT\\project\\Untitled Folder\n",
      "Вы ввели 'C:\\Users\\plaps\\Desktop\\IT\\project\\Untitled Folder'\n",
      "Введите данные для использования MySQL\n",
      "Введите имя пользователя (user name): project_user\n",
      "Вы ввели 'project_user'\n",
      "Введите название базы данных (database name): project_db\n",
      "Вы ввели 'project_db'\n"
     ]
    }
   ],
   "source": [
    "my_path = input(\"Введите путь папки, в которой будут лежать все ваши файлы (пример формата C:\\\\Users\\\\User\\\\Documents\\\\Python Scripts\\\\IT\\\\Untitled Folder): \")\n",
    "while my_path  == '':\n",
    "    print(\"Ошибка: вы не ввели путь папки\")\n",
    "    my_path = input(\"Введите путь папки, в которой будут лежать все ваши файлы (пример формата C:\\\\Users\\\\User\\\\Documents\\\\Python Scripts\\\\IT\\\\Untitled Folder): \")\n",
    "print(\"Вы ввели '\" + str(my_path)+\"'\")\n",
    "\n",
    "print(\"Введите данные для использования MySQL\")\n",
    "user = input(\"Введите имя пользователя (user name): \")\n",
    "while user  == '':\n",
    "    print(\"Ошибка: вы не ввели имя пользователя\")\n",
    "    user = input(\"Введите имя пользователя (user name): \")\n",
    "print(\"Вы ввели '\" + str(user)+\"'\")\n",
    "database = input(\"Введите название базы данных (database name): \")\n",
    "while database  == '':\n",
    "    print(\"Ошибка: вы не ввели название базы данных\")\n",
    "    database = input(\"Введите название базы данных (database name): \")\n",
    "print(\"Вы ввели '\" + str(database)+\"'\")"
   ]
  },
  {
   "cell_type": "markdown",
   "metadata": {},
   "source": [
    "#### Блок Ивахненко Анастасии"
   ]
  },
  {
   "cell_type": "code",
   "execution_count": 3,
   "metadata": {},
   "outputs": [],
   "source": [
    "applications = [f for f in listdir(my_path+'/applications') if isfile(join(my_path+'/applications', f))] \n",
    "contracts = [f for f in listdir(my_path+'/contracts') if isfile(join(my_path+'/contracts', f))]"
   ]
  },
  {
   "cell_type": "code",
   "execution_count": 4,
   "metadata": {},
   "outputs": [],
   "source": [
    "df = pd.read_excel(my_path+'/applications/' + applications[0], header = None, usecols = [0, 3, 4, 5, 6, 7, 8, 12, 14]) \n",
    "#Читаем первый excel, чтобы получить названия колонок"
   ]
  },
  {
   "cell_type": "code",
   "execution_count": 5,
   "metadata": {
    "scrolled": true
   },
   "outputs": [],
   "source": [
    "columns = [df[0][4], df[0][13], df[0][15], df[0][17], df[0][19], df[1][4], df[2][6], df[2][17], df[3][6], df[4][2], df[4][6],\n",
    "          df[5][2], df[6][2], df[6][4], df[7][8], 'application_date', df[8][2]]\n",
    "#список с названиями колнок"
   ]
  },
  {
   "cell_type": "code",
   "execution_count": 6,
   "metadata": {},
   "outputs": [],
   "source": [
    "values = []\n",
    "for i in applications:\n",
    "    df = pd.read_excel(my_path+'/applications/' + i, header = None, usecols = [0, 3, 4, 5, 6, 7, 8, 12, 14])\n",
    "    if df.shape[0] < 21:\n",
    "        df.loc[20] = np.nan\n",
    "    values.append((df[0][5], df[0][14], df[0][16], df[0][18], df[0][20], df[1][5], df[2][7], df[2][18], \n",
    "                   df[3][7], df[4][3], df[4][7], df[5][3], df[6][3], df[6][5], df[7][9], df[8][1], df[8][3]))"
   ]
  },
  {
   "cell_type": "code",
   "execution_count": 7,
   "metadata": {},
   "outputs": [
    {
     "data": {
      "text/html": [
       "<div>\n",
       "<style scoped>\n",
       "    .dataframe tbody tr th:only-of-type {\n",
       "        vertical-align: middle;\n",
       "    }\n",
       "\n",
       "    .dataframe tbody tr th {\n",
       "        vertical-align: top;\n",
       "    }\n",
       "\n",
       "    .dataframe thead th {\n",
       "        text-align: right;\n",
       "    }\n",
       "</style>\n",
       "<table border=\"1\" class=\"dataframe\">\n",
       "  <thead>\n",
       "    <tr style=\"text-align: right;\">\n",
       "      <th></th>\n",
       "      <th>Identity Number</th>\n",
       "      <th>Income</th>\n",
       "      <th>Income Type</th>\n",
       "      <th>Housing</th>\n",
       "      <th>Age of Car (if owned)</th>\n",
       "      <th>Issue Date</th>\n",
       "      <th>Children</th>\n",
       "      <th>House ownership</th>\n",
       "      <th>Family</th>\n",
       "      <th>Date of Birth</th>\n",
       "      <th>Marital Status</th>\n",
       "      <th>Gender</th>\n",
       "      <th>Employed By</th>\n",
       "      <th>Education</th>\n",
       "      <th>Position</th>\n",
       "      <th>application_date</th>\n",
       "      <th>Date appointed</th>\n",
       "    </tr>\n",
       "  </thead>\n",
       "  <tbody>\n",
       "    <tr>\n",
       "      <th>0</th>\n",
       "      <td>100003</td>\n",
       "      <td>270000.0</td>\n",
       "      <td>State servant</td>\n",
       "      <td>House / apartment</td>\n",
       "      <td>NaN</td>\n",
       "      <td>08.29.2013</td>\n",
       "      <td>0.0</td>\n",
       "      <td>N</td>\n",
       "      <td>2.0</td>\n",
       "      <td>07.22.1968</td>\n",
       "      <td>Married</td>\n",
       "      <td>Female</td>\n",
       "      <td>School</td>\n",
       "      <td>Higher education</td>\n",
       "      <td>Core staff</td>\n",
       "      <td>06.16.2014</td>\n",
       "      <td>03.16.2011</td>\n",
       "    </tr>\n",
       "    <tr>\n",
       "      <th>1</th>\n",
       "      <td>100004</td>\n",
       "      <td>67500.0</td>\n",
       "      <td>Working</td>\n",
       "      <td>House / apartment</td>\n",
       "      <td>26.0</td>\n",
       "      <td>01.28.2010</td>\n",
       "      <td>0.0</td>\n",
       "      <td>Y</td>\n",
       "      <td>1.0</td>\n",
       "      <td>1964-10-11 00:00:00</td>\n",
       "      <td>Single / not married</td>\n",
       "      <td>Male</td>\n",
       "      <td>Government</td>\n",
       "      <td>Secondary / secondary special</td>\n",
       "      <td>Laborers</td>\n",
       "      <td>2017-02-01 00:00:00</td>\n",
       "      <td>05.22.2016</td>\n",
       "    </tr>\n",
       "    <tr>\n",
       "      <th>2</th>\n",
       "      <td>100006</td>\n",
       "      <td>135000.0</td>\n",
       "      <td>Working</td>\n",
       "      <td>House / apartment</td>\n",
       "      <td>NaN</td>\n",
       "      <td>2010-08-01 00:00:00</td>\n",
       "      <td>0.0</td>\n",
       "      <td>Y</td>\n",
       "      <td>2.0</td>\n",
       "      <td>08.29.1964</td>\n",
       "      <td>Civil marriage</td>\n",
       "      <td>Female</td>\n",
       "      <td>Business Entity Type 3</td>\n",
       "      <td>Secondary / secondary special</td>\n",
       "      <td>Laborers</td>\n",
       "      <td>2016-10-09 00:00:00</td>\n",
       "      <td>05.16.2008</td>\n",
       "    </tr>\n",
       "    <tr>\n",
       "      <th>3</th>\n",
       "      <td>100007</td>\n",
       "      <td>121500.0</td>\n",
       "      <td>Working</td>\n",
       "      <td>House / apartment</td>\n",
       "      <td>NaN</td>\n",
       "      <td>03.18.2008</td>\n",
       "      <td>0.0</td>\n",
       "      <td>Y</td>\n",
       "      <td>1.0</td>\n",
       "      <td>1963-09-02 00:00:00</td>\n",
       "      <td>Single / not married</td>\n",
       "      <td>Male</td>\n",
       "      <td>Religion</td>\n",
       "      <td>Secondary / secondary special</td>\n",
       "      <td>Core staff</td>\n",
       "      <td>2017-05-09 00:00:00</td>\n",
       "      <td>2009-12-05 00:00:00</td>\n",
       "    </tr>\n",
       "  </tbody>\n",
       "</table>\n",
       "</div>"
      ],
      "text/plain": [
       "   Identity Number    Income    Income Type            Housing  \\\n",
       "0           100003  270000.0  State servant  House / apartment   \n",
       "1           100004   67500.0        Working  House / apartment   \n",
       "2           100006  135000.0        Working  House / apartment   \n",
       "3           100007  121500.0        Working  House / apartment   \n",
       "\n",
       "   Age of Car (if owned)           Issue Date  Children House ownership  \\\n",
       "0                    NaN           08.29.2013       0.0               N   \n",
       "1                   26.0           01.28.2010       0.0               Y   \n",
       "2                    NaN  2010-08-01 00:00:00       0.0               Y   \n",
       "3                    NaN           03.18.2008       0.0               Y   \n",
       "\n",
       "   Family        Date of Birth        Marital Status  Gender  \\\n",
       "0     2.0           07.22.1968               Married  Female   \n",
       "1     1.0  1964-10-11 00:00:00  Single / not married    Male   \n",
       "2     2.0           08.29.1964        Civil marriage  Female   \n",
       "3     1.0  1963-09-02 00:00:00  Single / not married    Male   \n",
       "\n",
       "              Employed By                      Education    Position  \\\n",
       "0                  School               Higher education  Core staff   \n",
       "1              Government  Secondary / secondary special    Laborers   \n",
       "2  Business Entity Type 3  Secondary / secondary special    Laborers   \n",
       "3                Religion  Secondary / secondary special  Core staff   \n",
       "\n",
       "      application_date       Date appointed  \n",
       "0           06.16.2014           03.16.2011  \n",
       "1  2017-02-01 00:00:00           05.22.2016  \n",
       "2  2016-10-09 00:00:00           05.16.2008  \n",
       "3  2017-05-09 00:00:00  2009-12-05 00:00:00  "
      ]
     },
     "execution_count": 7,
     "metadata": {},
     "output_type": "execute_result"
    }
   ],
   "source": [
    "applic_df = pd.DataFrame(data = values, columns = columns)\n",
    "applic_df.head(4)"
   ]
  },
  {
   "cell_type": "code",
   "execution_count": 8,
   "metadata": {},
   "outputs": [],
   "source": [
    "applic_df = applic_df.drop(['Date appointed'], axis = 1)\n",
    "applic_df = applic_df.drop(['Issue Date'], axis = 1)"
   ]
  },
  {
   "cell_type": "code",
   "execution_count": 9,
   "metadata": {},
   "outputs": [],
   "source": [
    "def calculate_age(born):\n",
    "    today = date.today()\n",
    "    return today.year - born.year - ((today.month, today.day) < (born.month, born.day))"
   ]
  },
  {
   "cell_type": "code",
   "execution_count": 10,
   "metadata": {},
   "outputs": [],
   "source": [
    "ages = []\n",
    "for i, value in enumerate(applic_df['Date of Birth']):\n",
    "    try:\n",
    "        ages.append(calculate_age(datetime.datetime.strptime(applic_df['Date of Birth'][i], '%m.%d.%Y')))\n",
    "    except:\n",
    "        ages.append(calculate_age(value))\n",
    "        \n",
    "applic_df['age'] = ages"
   ]
  },
  {
   "cell_type": "code",
   "execution_count": 11,
   "metadata": {},
   "outputs": [],
   "source": [
    "for i, value in enumerate(applic_df['application_date']):\n",
    "    try:\n",
    "        applic_df['application_date'].loc[i] = datetime.date.strftime(datetime.datetime.strptime(value, '%m.%d.%Y'), \"%Y-%m-%d\")\n",
    "    except:\n",
    "        applic_df['application_date'].loc[i] = (str(applic_df['application_date'][i].year) + \n",
    "                                                '-' + str(applic_df['application_date'][i].month) + '-' + \n",
    "                                                str(applic_df['application_date'][i].day))"
   ]
  },
  {
   "cell_type": "code",
   "execution_count": 12,
   "metadata": {},
   "outputs": [],
   "source": [
    "applic_df = applic_df.where((pd.notnull(applic_df)), None)"
   ]
  },
  {
   "cell_type": "code",
   "execution_count": 13,
   "metadata": {},
   "outputs": [],
   "source": [
    "applic_df = applic_df.drop(['Date of Birth'], axis = 1)"
   ]
  },
  {
   "cell_type": "code",
   "execution_count": 14,
   "metadata": {},
   "outputs": [],
   "source": [
    "cnx = mysql.connector.connect(host = 'localhost', database = database, user = user)\n",
    "cursor = cnx.cursor(buffered=True)\n",
    "\n",
    "cursor.execute(\"\"\"CREATE TABLE IF NOT EXISTS applications \n",
    "(id INT, \n",
    "income INT, \n",
    "income_type VARCHAR(30), \n",
    "housing VARCHAR (30), \n",
    "age_of_car INT,  \n",
    "children INT,\n",
    "house_ownership VARCHAR(30), \n",
    "family INT,\n",
    "marital_status VARCHAR(30), \n",
    "gender VARCHAR(30),\n",
    "employed_by VARCHAR(30), \n",
    "education VARCHAR(30),\n",
    "position VARCHAR(30),\n",
    "application_date DATE,\n",
    "age INT,\n",
    "PRIMARY KEY (id)) ENGINE=INNODB\"\"\")"
   ]
  },
  {
   "cell_type": "code",
   "execution_count": 15,
   "metadata": {},
   "outputs": [],
   "source": [
    "# заполняем значениями таблицу applications\n",
    "sql = \"INSERT INTO applications VALUES (%s, %s, %s, %s, %s, %s, %s, %s, %s, %s, %s, %s, %s, %s, %s)\"\n",
    "for i in range(0, applic_df.shape[0]):\n",
    "    val = (int(applic_df.iloc[i]['Identity Number']), applic_df.iloc[i]['Income'], applic_df.iloc[i]['Income Type'],\n",
    "           applic_df.iloc[i]['Housing'], applic_df.iloc[i]['Age of Car (if owned)'], applic_df.iloc[i]['Children'], \n",
    "           applic_df.iloc[i]['House ownership'], applic_df.iloc[i]['Family'], applic_df.iloc[i]['Marital Status'], \n",
    "           applic_df.iloc[i]['Gender'], applic_df.iloc[i]['Employed By'], applic_df.iloc[i]['Education'], \n",
    "           applic_df.iloc[i]['Position'], applic_df.iloc[i]['application_date'], int(applic_df.iloc[i]['age']))\n",
    "    cursor.execute(sql, val)\n",
    "\n",
    "    cnx.commit()"
   ]
  },
  {
   "cell_type": "markdown",
   "metadata": {},
   "source": [
    "## Contracts"
   ]
  },
  {
   "cell_type": "code",
   "execution_count": 16,
   "metadata": {},
   "outputs": [],
   "source": [
    "df_contract = pd.read_excel(my_path + '/contracts/' + contracts[0], header = None, usecols = [0, 4, 5])"
   ]
  },
  {
   "cell_type": "code",
   "execution_count": 17,
   "metadata": {},
   "outputs": [],
   "source": [
    "column_values_contracts = [df_contract[0][4], df_contract[0][6], df_contract[0][8], \n",
    "                           df_contract[1][4], df_contract[1][6], df_contract[1][8], 'contract_date']"
   ]
  },
  {
   "cell_type": "code",
   "execution_count": 18,
   "metadata": {},
   "outputs": [],
   "source": [
    "values_contracts = []\n",
    "for i in contracts:\n",
    "    df = pd.read_excel(my_path + '/contracts/' + i, header = None, usecols = [0, 4, 5])\n",
    "    values_contracts.append((df[0][5], df[0][7], df[0][9], df[1][5], df[1][7], df[1][9], df[2][1]))"
   ]
  },
  {
   "cell_type": "code",
   "execution_count": 19,
   "metadata": {},
   "outputs": [
    {
     "data": {
      "text/html": [
       "<div>\n",
       "<style scoped>\n",
       "    .dataframe tbody tr th:only-of-type {\n",
       "        vertical-align: middle;\n",
       "    }\n",
       "\n",
       "    .dataframe tbody tr th {\n",
       "        vertical-align: top;\n",
       "    }\n",
       "\n",
       "    .dataframe thead th {\n",
       "        text-align: right;\n",
       "    }\n",
       "</style>\n",
       "<table border=\"1\" class=\"dataframe\">\n",
       "  <thead>\n",
       "    <tr style=\"text-align: right;\">\n",
       "      <th></th>\n",
       "      <th>Identity Number</th>\n",
       "      <th>Amount</th>\n",
       "      <th>Term (month)</th>\n",
       "      <th>Contract Number</th>\n",
       "      <th>Type</th>\n",
       "      <th>Annuity</th>\n",
       "      <th>contract_date</th>\n",
       "    </tr>\n",
       "  </thead>\n",
       "  <tbody>\n",
       "    <tr>\n",
       "      <th>0</th>\n",
       "      <td>100009</td>\n",
       "      <td>1560726.0</td>\n",
       "      <td>41</td>\n",
       "      <td>100022</td>\n",
       "      <td>Cash loans</td>\n",
       "      <td>41301.0</td>\n",
       "      <td>2015-02-11 00:00:00</td>\n",
       "    </tr>\n",
       "    <tr>\n",
       "      <th>1</th>\n",
       "      <td>100047</td>\n",
       "      <td>1193580.0</td>\n",
       "      <td>37</td>\n",
       "      <td>100052</td>\n",
       "      <td>Cash loans</td>\n",
       "      <td>35028.0</td>\n",
       "      <td>08.30.2016</td>\n",
       "    </tr>\n",
       "    <tr>\n",
       "      <th>2</th>\n",
       "      <td>100025</td>\n",
       "      <td>1132573.5</td>\n",
       "      <td>33</td>\n",
       "      <td>100068</td>\n",
       "      <td>Cash loans</td>\n",
       "      <td>37561.5</td>\n",
       "      <td>12.30.2018</td>\n",
       "    </tr>\n",
       "    <tr>\n",
       "      <th>3</th>\n",
       "      <td>100064</td>\n",
       "      <td>298728.0</td>\n",
       "      <td>22</td>\n",
       "      <td>100113</td>\n",
       "      <td>Cash loans</td>\n",
       "      <td>15381.0</td>\n",
       "      <td>02.19.2018</td>\n",
       "    </tr>\n",
       "    <tr>\n",
       "      <th>4</th>\n",
       "      <td>100023</td>\n",
       "      <td>544491.0</td>\n",
       "      <td>34</td>\n",
       "      <td>100122</td>\n",
       "      <td>Cash loans</td>\n",
       "      <td>17563.5</td>\n",
       "      <td>07.31.2016</td>\n",
       "    </tr>\n",
       "  </tbody>\n",
       "</table>\n",
       "</div>"
      ],
      "text/plain": [
       "   Identity Number     Amount  Term (month)  Contract Number        Type  \\\n",
       "0           100009  1560726.0            41           100022  Cash loans   \n",
       "1           100047  1193580.0            37           100052  Cash loans   \n",
       "2           100025  1132573.5            33           100068  Cash loans   \n",
       "3           100064   298728.0            22           100113  Cash loans   \n",
       "4           100023   544491.0            34           100122  Cash loans   \n",
       "\n",
       "   Annuity        contract_date  \n",
       "0  41301.0  2015-02-11 00:00:00  \n",
       "1  35028.0           08.30.2016  \n",
       "2  37561.5           12.30.2018  \n",
       "3  15381.0           02.19.2018  \n",
       "4  17563.5           07.31.2016  "
      ]
     },
     "execution_count": 19,
     "metadata": {},
     "output_type": "execute_result"
    }
   ],
   "source": [
    "contract_df = pd.DataFrame(data = values_contracts, columns = column_values_contracts)\n",
    "contract_df.head(5)"
   ]
  },
  {
   "cell_type": "code",
   "execution_count": 20,
   "metadata": {},
   "outputs": [],
   "source": [
    "for i, value in enumerate(contract_df['contract_date']):\n",
    "    try:\n",
    "        contract_df['contract_date'].loc[i] = datetime.date.strftime(datetime.datetime.strptime(value, '%m.%d.%Y'), \"%Y-%m-%d\")\n",
    "    except:\n",
    "        contract_df['contract_date'].loc[i] = (str(contract_df['contract_date'][i].year) + \n",
    "                                                '-' + str(contract_df['contract_date'][i].month) + '-' + \n",
    "                                                str(contract_df['contract_date'][i].day))"
   ]
  },
  {
   "cell_type": "code",
   "execution_count": 21,
   "metadata": {},
   "outputs": [],
   "source": [
    "contract_df = contract_df.where((pd.notnull(contract_df)), None)"
   ]
  },
  {
   "cell_type": "code",
   "execution_count": 22,
   "metadata": {},
   "outputs": [],
   "source": [
    "cnx.close()"
   ]
  },
  {
   "cell_type": "code",
   "execution_count": 23,
   "metadata": {},
   "outputs": [],
   "source": [
    "cnx = mysql.connector.connect(host = 'localhost', database = database, user = user)\n",
    "cursor = cnx.cursor(buffered=True)\n",
    "\n",
    "cursor.execute(\"\"\"CREATE TABLE IF NOT EXISTS contracts \n",
    "(id INT, \n",
    "amount INT, \n",
    "term_month INT, \n",
    "contract_number INT, \n",
    "type VARCHAR(30), \n",
    "annuity INT, \n",
    "contract_date DATE,\n",
    "PRIMARY KEY (contract_number),\n",
    "FOREIGN KEY (id) REFERENCES applications(id)) ENGINE=INNODB \"\"\")"
   ]
  },
  {
   "cell_type": "code",
   "execution_count": 24,
   "metadata": {},
   "outputs": [
    {
     "name": "stdout",
     "output_type": "stream",
     "text": [
      "Нет заявки с id = 100002, такой контракт не передаётся в базу\n"
     ]
    }
   ],
   "source": [
    "sql = \"INSERT INTO contracts VALUES (%s, %s, %s, %s, %s, %s, %s)\"\n",
    "for i in range(0, contract_df.shape[0]):\n",
    "    val = (int(contract_df.iloc[i]['Identity Number']), contract_df.iloc[i]['Amount'], int(contract_df.iloc[i]['Term (month)']),\n",
    "           int(contract_df.iloc[i]['Contract Number']), contract_df.iloc[i]['Type'], contract_df.iloc[i]['Annuity'], \n",
    "           contract_df.iloc[i]['contract_date'])\n",
    "    try:\n",
    "        cursor.execute(sql, val)\n",
    "    except:\n",
    "        print(\"Нет заявки с id = %d, такой контракт не передаётся в базу\" %contract_df['Identity Number'][i])\n",
    "\n",
    "    cnx.commit()"
   ]
  },
  {
   "cell_type": "markdown",
   "metadata": {},
   "source": [
    "## Payments"
   ]
  },
  {
   "cell_type": "code",
   "execution_count": 92,
   "metadata": {},
   "outputs": [
    {
     "data": {
      "text/html": [
       "<div>\n",
       "<style scoped>\n",
       "    .dataframe tbody tr th:only-of-type {\n",
       "        vertical-align: middle;\n",
       "    }\n",
       "\n",
       "    .dataframe tbody tr th {\n",
       "        vertical-align: top;\n",
       "    }\n",
       "\n",
       "    .dataframe thead th {\n",
       "        text-align: right;\n",
       "    }\n",
       "</style>\n",
       "<table border=\"1\" class=\"dataframe\">\n",
       "  <thead>\n",
       "    <tr style=\"text-align: right;\">\n",
       "      <th></th>\n",
       "      <th>Contract Number</th>\n",
       "      <th>Date</th>\n",
       "      <th>Amount Due</th>\n",
       "      <th>Amount Paid</th>\n",
       "    </tr>\n",
       "  </thead>\n",
       "  <tbody>\n",
       "    <tr>\n",
       "      <th>0</th>\n",
       "      <td>100875</td>\n",
       "      <td>2016-04-05</td>\n",
       "      <td>24700.5</td>\n",
       "      <td>24700.5</td>\n",
       "    </tr>\n",
       "    <tr>\n",
       "      <th>1</th>\n",
       "      <td>100875</td>\n",
       "      <td>2016-05-05</td>\n",
       "      <td>24700.5</td>\n",
       "      <td>24700.5</td>\n",
       "    </tr>\n",
       "    <tr>\n",
       "      <th>2</th>\n",
       "      <td>100875</td>\n",
       "      <td>2016-06-05</td>\n",
       "      <td>24700.5</td>\n",
       "      <td>0.0</td>\n",
       "    </tr>\n",
       "    <tr>\n",
       "      <th>3</th>\n",
       "      <td>100875</td>\n",
       "      <td>2016-07-05</td>\n",
       "      <td>24700.5</td>\n",
       "      <td>0.0</td>\n",
       "    </tr>\n",
       "    <tr>\n",
       "      <th>4</th>\n",
       "      <td>100875</td>\n",
       "      <td>2016-08-05</td>\n",
       "      <td>24700.5</td>\n",
       "      <td>74101.5</td>\n",
       "    </tr>\n",
       "  </tbody>\n",
       "</table>\n",
       "</div>"
      ],
      "text/plain": [
       "   Contract Number       Date  Amount Due  Amount Paid\n",
       "0           100875 2016-04-05     24700.5      24700.5\n",
       "1           100875 2016-05-05     24700.5      24700.5\n",
       "2           100875 2016-06-05     24700.5          0.0\n",
       "3           100875 2016-07-05     24700.5          0.0\n",
       "4           100875 2016-08-05     24700.5      74101.5"
      ]
     },
     "execution_count": 92,
     "metadata": {},
     "output_type": "execute_result"
    }
   ],
   "source": [
    "payments = pd.read_excel(my_path+\"/payments.xls\")\n",
    "payments.head(5)"
   ]
  },
  {
   "cell_type": "code",
   "execution_count": 93,
   "metadata": {},
   "outputs": [],
   "source": [
    "cnx = mysql.connector.connect(host = 'localhost', database = database, user = user)\n",
    "cursor = cnx.cursor(buffered=True)\n",
    "\n",
    "cursor.execute(\"\"\"CREATE TABLE IF NOT EXISTS payments \n",
    "(contract_number INT, \n",
    "payment_date DATE, \n",
    "amount_due DECIMAL(18,2), \n",
    "amount_paid DECIMAL(18,2),\n",
    "FOREIGN KEY (contract_number) REFERENCES contracts(contract_number))\"\"\")"
   ]
  },
  {
   "cell_type": "code",
   "execution_count": 94,
   "metadata": {},
   "outputs": [
    {
     "name": "stdout",
     "output_type": "stream",
     "text": [
      "Нет контракта с contract_number = 100875, такой платёж не передаётся в базу\n",
      "Нет контракта с contract_number = 100875, такой платёж не передаётся в базу\n",
      "Нет контракта с contract_number = 100875, такой платёж не передаётся в базу\n",
      "Нет контракта с contract_number = 100875, такой платёж не передаётся в базу\n",
      "Нет контракта с contract_number = 100875, такой платёж не передаётся в базу\n",
      "Нет контракта с contract_number = 100875, такой платёж не передаётся в базу\n",
      "Нет контракта с contract_number = 100875, такой платёж не передаётся в базу\n",
      "Нет контракта с contract_number = 100875, такой платёж не передаётся в базу\n",
      "Нет контракта с contract_number = 100875, такой платёж не передаётся в базу\n",
      "Нет контракта с contract_number = 100875, такой платёж не передаётся в базу\n",
      "Нет контракта с contract_number = 100875, такой платёж не передаётся в базу\n",
      "Нет контракта с contract_number = 100875, такой платёж не передаётся в базу\n",
      "Нет контракта с contract_number = 100875, такой платёж не передаётся в базу\n"
     ]
    }
   ],
   "source": [
    "sql = \"INSERT INTO payments VALUES (%s, %s, %s, %s)\"\n",
    "for i in range(0, payments.shape[0]):\n",
    "    val = (int(payments.iloc[i]['Contract Number']), payments.iloc[i]['Date'], payments.iloc[i]['Amount Due'],\n",
    "                payments.iloc[i]['Amount Paid'])\n",
    "    try:\n",
    "        cursor.execute(sql, val)\n",
    "    except:\n",
    "        print(\"Нет контракта с contract_number = %d, такой платёж не передаётся в базу\" %payments['Contract Number'][i])\n",
    "cnx.commit()"
   ]
  },
  {
   "cell_type": "code",
   "execution_count": null,
   "metadata": {},
   "outputs": [],
   "source": []
  },
  {
   "cell_type": "code",
   "execution_count": null,
   "metadata": {},
   "outputs": [],
   "source": []
  },
  {
   "cell_type": "markdown",
   "metadata": {},
   "source": [
    "### Пункт 2. Проверка на корректность значений, исправление некоторых ошибок"
   ]
  },
  {
   "cell_type": "code",
   "execution_count": 95,
   "metadata": {},
   "outputs": [],
   "source": [
    "# позволяет посмотреть для всех текстовых переменных частоту появлений каждой категории,\n",
    "# для каждой переменной формата integer или дата посмотреть на максимальное, минимальное значение и количество пропусков\n",
    "def value_check (table, data_type):\n",
    "    cursor.execute(\"\"\"SELECT COLUMN_NAME FROM INFORMATION_SCHEMA.COLUMNS\n",
    "    WHERE DATA_TYPE = '{0}' AND TABLE_SCHEMA = '{1}'\n",
    "    AND TABLE_NAME = '{2}'\"\"\".format(data_type, database, table))\n",
    "    data_type_col = pd.DataFrame(cursor.fetchall())[0].tolist()\n",
    "    for i in range(0,len(data_type_col)):\n",
    "        if data_type == 'varchar':\n",
    "            cursor.execute(\"\"\"SELECT {0}, COUNT({0}) AS count FROM {1} \n",
    "            WHERE {0} IS NOT NULL GROUP BY {0} UNION ALL SELECT {0}, \n",
    "            COUNT(CASE WHEN {0} IS NULL THEN 1 END) AS count FROM {1} \n",
    "            WHERE {0} IS NULL GROUP BY {0}\"\"\".format(data_type_col[i], table))\n",
    "        if data_type == 'int' or data_type == 'date':\n",
    "            cursor.execute(\"\"\"SELECT MAX({0}), MIN({0}), \n",
    "            COUNT(CASE WHEN {0} IS NULL THEN 1 END) AS null_count FROM {1}\"\"\".format(data_type_col[i], table))\n",
    "        data = pd.DataFrame(cursor.fetchall())\n",
    "        data.columns = [x[0] for x in cursor.description]\n",
    "        print (\"Проверка обозначений по полю \"+data_type_col[i])\n",
    "        display(data)\n",
    "        print(\"- \"*30)\n",
    "        print()"
   ]
  },
  {
   "cell_type": "code",
   "execution_count": 96,
   "metadata": {},
   "outputs": [],
   "source": [
    "# проверяет, есть ли в числовых данных отрицательные значения (в нашем случае для всех полей такое значение некорректно) \n",
    "# и, если есть, заменяет все отрицательные числовые значения на NULL\n",
    "def int_negative_value_update (table):\n",
    "    cursor.execute(\"\"\"SELECT COLUMN_NAME FROM INFORMATION_SCHEMA.COLUMNS\n",
    "    WHERE DATA_TYPE = 'int' AND TABLE_SCHEMA = '{0}'\n",
    "    AND TABLE_NAME = '{1}'\"\"\".format(database, table))\n",
    "    data_type_col = pd.DataFrame(cursor.fetchall())[0].tolist()\n",
    "    for i in range(0,len(data_type_col)):\n",
    "        cursor.execute(\"\"\"SELECT COUNT(CASE WHEN {0}<0 THEN 1 END) FROM {1}\"\"\".format(data_type_col[i], table)) \n",
    "        data = cursor.fetchall()[0][0]\n",
    "        if data != 0:\n",
    "            cursor.execute(\"\"\"UPDATE {0} SET {1}= NULL WHERE {1}<0\"\"\".format(table, data_type_col[i]))\n",
    "            cnx.commit()\n",
    "            print (\"Отрицательные значения найдены для поля \"+ data_type_col[i] + \", некорректные значения заменены на None\")\n",
    "        else:\n",
    "            print (\"Отрицательные значения для поля \"+ data_type_col[i] + \" не найдены, ошибок нет\")"
   ]
  },
  {
   "cell_type": "code",
   "execution_count": 97,
   "metadata": {},
   "outputs": [],
   "source": [
    "# поиск и исправление ошибок в датах\n",
    "def date_value_update (table):\n",
    "    cursor.execute(\"\"\"SELECT COLUMN_NAME FROM INFORMATION_SCHEMA.COLUMNS\n",
    "    WHERE DATA_TYPE = 'date' AND TABLE_SCHEMA = '{0}'\n",
    "    AND TABLE_NAME = '{1}'\"\"\".format(database, table))\n",
    "    data_type_col = pd.DataFrame(cursor.fetchall())[0].tolist()\n",
    "    #проверка на даты из будущего\n",
    "    for i in range(0,len(data_type_col)):\n",
    "        cursor.execute(\"\"\"SELECT COUNT(CASE WHEN {0}>'2018-12-31' THEN 1 END) FROM {1}\"\"\".format(data_type_col[i], table)) \n",
    "        data = cursor.fetchall()[0][0]\n",
    "        if data != 0:\n",
    "            cursor.execute(\"\"\"UPDATE {0} SET {1}= NULL WHERE {1}>'2018-12-31'\"\"\".format(table, data_type_col[i]))\n",
    "            cnx.commit()\n",
    "            print (\"Среди дат по полю \"+ data_type_col[i] + \" найдены будущие значения, некорректные значения заменены на None\")\n",
    "        else:\n",
    "            print (\"Среди дат по полю \"+ data_type_col[i] + \" некорректные значения не найдены\")\n",
    "    print(\"- \"*30)\n",
    "    #проверка возраста до 18 лет\n",
    "    cursor.execute(\"\"\"SELECT id, age FROM applications WHERE age < 18\"\"\")\n",
    "    data = cursor.fetchall()\n",
    "    if not data:\n",
    "        print(\"Заёмщиков младше 18 лет не найдено\")\n",
    "    else:\n",
    "        data1 = pd.DataFrame(data)\n",
    "        data1.columns = [x[0] for x in cursor.description]\n",
    "        print(\"Найдены следующие заёмщики младше 18 лет:\")\n",
    "        display(data1)"
   ]
  },
  {
   "cell_type": "markdown",
   "metadata": {},
   "source": [
    "#### Проверка значений в таблице applications"
   ]
  },
  {
   "cell_type": "code",
   "execution_count": 98,
   "metadata": {},
   "outputs": [],
   "source": [
    "table = 'applications'"
   ]
  },
  {
   "cell_type": "code",
   "execution_count": 99,
   "metadata": {},
   "outputs": [
    {
     "name": "stdout",
     "output_type": "stream",
     "text": [
      "Проверим таблицу заявок по всем категориальным полям:\n"
     ]
    }
   ],
   "source": [
    "print('Проверим таблицу заявок по всем категориальным полям:')"
   ]
  },
  {
   "cell_type": "code",
   "execution_count": 100,
   "metadata": {},
   "outputs": [
    {
     "name": "stdout",
     "output_type": "stream",
     "text": [
      "Проверка обозначений по полю income_type\n"
     ]
    },
    {
     "data": {
      "text/html": [
       "<div>\n",
       "<style scoped>\n",
       "    .dataframe tbody tr th:only-of-type {\n",
       "        vertical-align: middle;\n",
       "    }\n",
       "\n",
       "    .dataframe tbody tr th {\n",
       "        vertical-align: top;\n",
       "    }\n",
       "\n",
       "    .dataframe thead th {\n",
       "        text-align: right;\n",
       "    }\n",
       "</style>\n",
       "<table border=\"1\" class=\"dataframe\">\n",
       "  <thead>\n",
       "    <tr style=\"text-align: right;\">\n",
       "      <th></th>\n",
       "      <th>income_type</th>\n",
       "      <th>count</th>\n",
       "    </tr>\n",
       "  </thead>\n",
       "  <tbody>\n",
       "    <tr>\n",
       "      <th>0</th>\n",
       "      <td>State servant</td>\n",
       "      <td>8</td>\n",
       "    </tr>\n",
       "    <tr>\n",
       "      <th>1</th>\n",
       "      <td>Working</td>\n",
       "      <td>37</td>\n",
       "    </tr>\n",
       "    <tr>\n",
       "      <th>2</th>\n",
       "      <td>Commercial associate</td>\n",
       "      <td>9</td>\n",
       "    </tr>\n",
       "    <tr>\n",
       "      <th>3</th>\n",
       "      <td>Pensioner</td>\n",
       "      <td>9</td>\n",
       "    </tr>\n",
       "    <tr>\n",
       "      <th>4</th>\n",
       "      <td>None</td>\n",
       "      <td>1</td>\n",
       "    </tr>\n",
       "  </tbody>\n",
       "</table>\n",
       "</div>"
      ],
      "text/plain": [
       "            income_type  count\n",
       "0         State servant      8\n",
       "1               Working     37\n",
       "2  Commercial associate      9\n",
       "3             Pensioner      9\n",
       "4                  None      1"
      ]
     },
     "metadata": {},
     "output_type": "display_data"
    },
    {
     "name": "stdout",
     "output_type": "stream",
     "text": [
      "- - - - - - - - - - - - - - - - - - - - - - - - - - - - - - \n",
      "\n",
      "Проверка обозначений по полю housing\n"
     ]
    },
    {
     "data": {
      "text/html": [
       "<div>\n",
       "<style scoped>\n",
       "    .dataframe tbody tr th:only-of-type {\n",
       "        vertical-align: middle;\n",
       "    }\n",
       "\n",
       "    .dataframe tbody tr th {\n",
       "        vertical-align: top;\n",
       "    }\n",
       "\n",
       "    .dataframe thead th {\n",
       "        text-align: right;\n",
       "    }\n",
       "</style>\n",
       "<table border=\"1\" class=\"dataframe\">\n",
       "  <thead>\n",
       "    <tr style=\"text-align: right;\">\n",
       "      <th></th>\n",
       "      <th>housing</th>\n",
       "      <th>count</th>\n",
       "    </tr>\n",
       "  </thead>\n",
       "  <tbody>\n",
       "    <tr>\n",
       "      <th>0</th>\n",
       "      <td>House / apartment</td>\n",
       "      <td>58</td>\n",
       "    </tr>\n",
       "    <tr>\n",
       "      <th>1</th>\n",
       "      <td>Rented apartment</td>\n",
       "      <td>2</td>\n",
       "    </tr>\n",
       "    <tr>\n",
       "      <th>2</th>\n",
       "      <td>With parents</td>\n",
       "      <td>2</td>\n",
       "    </tr>\n",
       "    <tr>\n",
       "      <th>3</th>\n",
       "      <td>Municipal apartment</td>\n",
       "      <td>1</td>\n",
       "    </tr>\n",
       "    <tr>\n",
       "      <th>4</th>\n",
       "      <td>None</td>\n",
       "      <td>1</td>\n",
       "    </tr>\n",
       "  </tbody>\n",
       "</table>\n",
       "</div>"
      ],
      "text/plain": [
       "               housing  count\n",
       "0    House / apartment     58\n",
       "1     Rented apartment      2\n",
       "2         With parents      2\n",
       "3  Municipal apartment      1\n",
       "4                 None      1"
      ]
     },
     "metadata": {},
     "output_type": "display_data"
    },
    {
     "name": "stdout",
     "output_type": "stream",
     "text": [
      "- - - - - - - - - - - - - - - - - - - - - - - - - - - - - - \n",
      "\n",
      "Проверка обозначений по полю house_ownership\n"
     ]
    },
    {
     "data": {
      "text/html": [
       "<div>\n",
       "<style scoped>\n",
       "    .dataframe tbody tr th:only-of-type {\n",
       "        vertical-align: middle;\n",
       "    }\n",
       "\n",
       "    .dataframe tbody tr th {\n",
       "        vertical-align: top;\n",
       "    }\n",
       "\n",
       "    .dataframe thead th {\n",
       "        text-align: right;\n",
       "    }\n",
       "</style>\n",
       "<table border=\"1\" class=\"dataframe\">\n",
       "  <thead>\n",
       "    <tr style=\"text-align: right;\">\n",
       "      <th></th>\n",
       "      <th>house_ownership</th>\n",
       "      <th>count</th>\n",
       "    </tr>\n",
       "  </thead>\n",
       "  <tbody>\n",
       "    <tr>\n",
       "      <th>0</th>\n",
       "      <td>N</td>\n",
       "      <td>15</td>\n",
       "    </tr>\n",
       "    <tr>\n",
       "      <th>1</th>\n",
       "      <td>Y</td>\n",
       "      <td>48</td>\n",
       "    </tr>\n",
       "    <tr>\n",
       "      <th>2</th>\n",
       "      <td>None</td>\n",
       "      <td>1</td>\n",
       "    </tr>\n",
       "  </tbody>\n",
       "</table>\n",
       "</div>"
      ],
      "text/plain": [
       "  house_ownership  count\n",
       "0               N     15\n",
       "1               Y     48\n",
       "2            None      1"
      ]
     },
     "metadata": {},
     "output_type": "display_data"
    },
    {
     "name": "stdout",
     "output_type": "stream",
     "text": [
      "- - - - - - - - - - - - - - - - - - - - - - - - - - - - - - \n",
      "\n",
      "Проверка обозначений по полю marital_status\n"
     ]
    },
    {
     "data": {
      "text/html": [
       "<div>\n",
       "<style scoped>\n",
       "    .dataframe tbody tr th:only-of-type {\n",
       "        vertical-align: middle;\n",
       "    }\n",
       "\n",
       "    .dataframe tbody tr th {\n",
       "        vertical-align: top;\n",
       "    }\n",
       "\n",
       "    .dataframe thead th {\n",
       "        text-align: right;\n",
       "    }\n",
       "</style>\n",
       "<table border=\"1\" class=\"dataframe\">\n",
       "  <thead>\n",
       "    <tr style=\"text-align: right;\">\n",
       "      <th></th>\n",
       "      <th>marital_status</th>\n",
       "      <th>count</th>\n",
       "    </tr>\n",
       "  </thead>\n",
       "  <tbody>\n",
       "    <tr>\n",
       "      <th>0</th>\n",
       "      <td>Married</td>\n",
       "      <td>39</td>\n",
       "    </tr>\n",
       "    <tr>\n",
       "      <th>1</th>\n",
       "      <td>Single / not married</td>\n",
       "      <td>12</td>\n",
       "    </tr>\n",
       "    <tr>\n",
       "      <th>2</th>\n",
       "      <td>Civil marriage</td>\n",
       "      <td>8</td>\n",
       "    </tr>\n",
       "    <tr>\n",
       "      <th>3</th>\n",
       "      <td>Widow</td>\n",
       "      <td>3</td>\n",
       "    </tr>\n",
       "    <tr>\n",
       "      <th>4</th>\n",
       "      <td>Separated</td>\n",
       "      <td>1</td>\n",
       "    </tr>\n",
       "    <tr>\n",
       "      <th>5</th>\n",
       "      <td>None</td>\n",
       "      <td>1</td>\n",
       "    </tr>\n",
       "  </tbody>\n",
       "</table>\n",
       "</div>"
      ],
      "text/plain": [
       "         marital_status  count\n",
       "0               Married     39\n",
       "1  Single / not married     12\n",
       "2        Civil marriage      8\n",
       "3                 Widow      3\n",
       "4             Separated      1\n",
       "5                  None      1"
      ]
     },
     "metadata": {},
     "output_type": "display_data"
    },
    {
     "name": "stdout",
     "output_type": "stream",
     "text": [
      "- - - - - - - - - - - - - - - - - - - - - - - - - - - - - - \n",
      "\n",
      "Проверка обозначений по полю gender\n"
     ]
    },
    {
     "data": {
      "text/html": [
       "<div>\n",
       "<style scoped>\n",
       "    .dataframe tbody tr th:only-of-type {\n",
       "        vertical-align: middle;\n",
       "    }\n",
       "\n",
       "    .dataframe tbody tr th {\n",
       "        vertical-align: top;\n",
       "    }\n",
       "\n",
       "    .dataframe thead th {\n",
       "        text-align: right;\n",
       "    }\n",
       "</style>\n",
       "<table border=\"1\" class=\"dataframe\">\n",
       "  <thead>\n",
       "    <tr style=\"text-align: right;\">\n",
       "      <th></th>\n",
       "      <th>gender</th>\n",
       "      <th>count</th>\n",
       "    </tr>\n",
       "  </thead>\n",
       "  <tbody>\n",
       "    <tr>\n",
       "      <th>0</th>\n",
       "      <td>Female</td>\n",
       "      <td>36</td>\n",
       "    </tr>\n",
       "    <tr>\n",
       "      <th>1</th>\n",
       "      <td>Male</td>\n",
       "      <td>28</td>\n",
       "    </tr>\n",
       "  </tbody>\n",
       "</table>\n",
       "</div>"
      ],
      "text/plain": [
       "   gender  count\n",
       "0  Female     36\n",
       "1    Male     28"
      ]
     },
     "metadata": {},
     "output_type": "display_data"
    },
    {
     "name": "stdout",
     "output_type": "stream",
     "text": [
      "- - - - - - - - - - - - - - - - - - - - - - - - - - - - - - \n",
      "\n",
      "Проверка обозначений по полю employed_by\n"
     ]
    },
    {
     "data": {
      "text/html": [
       "<div>\n",
       "<style scoped>\n",
       "    .dataframe tbody tr th:only-of-type {\n",
       "        vertical-align: middle;\n",
       "    }\n",
       "\n",
       "    .dataframe tbody tr th {\n",
       "        vertical-align: top;\n",
       "    }\n",
       "\n",
       "    .dataframe thead th {\n",
       "        text-align: right;\n",
       "    }\n",
       "</style>\n",
       "<table border=\"1\" class=\"dataframe\">\n",
       "  <thead>\n",
       "    <tr style=\"text-align: right;\">\n",
       "      <th></th>\n",
       "      <th>employed_by</th>\n",
       "      <th>count</th>\n",
       "    </tr>\n",
       "  </thead>\n",
       "  <tbody>\n",
       "    <tr>\n",
       "      <th>0</th>\n",
       "      <td>School</td>\n",
       "      <td>2</td>\n",
       "    </tr>\n",
       "    <tr>\n",
       "      <th>1</th>\n",
       "      <td>Government</td>\n",
       "      <td>3</td>\n",
       "    </tr>\n",
       "    <tr>\n",
       "      <th>2</th>\n",
       "      <td>Business Entity Type 3</td>\n",
       "      <td>12</td>\n",
       "    </tr>\n",
       "    <tr>\n",
       "      <th>3</th>\n",
       "      <td>Religion</td>\n",
       "      <td>1</td>\n",
       "    </tr>\n",
       "    <tr>\n",
       "      <th>4</th>\n",
       "      <td>Other</td>\n",
       "      <td>3</td>\n",
       "    </tr>\n",
       "    <tr>\n",
       "      <th>5</th>\n",
       "      <td>XNA</td>\n",
       "      <td>9</td>\n",
       "    </tr>\n",
       "    <tr>\n",
       "      <th>6</th>\n",
       "      <td>Electricity</td>\n",
       "      <td>1</td>\n",
       "    </tr>\n",
       "    <tr>\n",
       "      <th>7</th>\n",
       "      <td>Medicine</td>\n",
       "      <td>2</td>\n",
       "    </tr>\n",
       "    <tr>\n",
       "      <th>8</th>\n",
       "      <td>Business Entity Type 2</td>\n",
       "      <td>3</td>\n",
       "    </tr>\n",
       "    <tr>\n",
       "      <th>9</th>\n",
       "      <td>Self-employed</td>\n",
       "      <td>8</td>\n",
       "    </tr>\n",
       "    <tr>\n",
       "      <th>10</th>\n",
       "      <td>Transport: type 2</td>\n",
       "      <td>2</td>\n",
       "    </tr>\n",
       "    <tr>\n",
       "      <th>11</th>\n",
       "      <td>Construction</td>\n",
       "      <td>1</td>\n",
       "    </tr>\n",
       "    <tr>\n",
       "      <th>12</th>\n",
       "      <td>Housing</td>\n",
       "      <td>1</td>\n",
       "    </tr>\n",
       "    <tr>\n",
       "      <th>13</th>\n",
       "      <td>Kindergarten</td>\n",
       "      <td>1</td>\n",
       "    </tr>\n",
       "    <tr>\n",
       "      <th>14</th>\n",
       "      <td>Trade: type 7</td>\n",
       "      <td>1</td>\n",
       "    </tr>\n",
       "    <tr>\n",
       "      <th>15</th>\n",
       "      <td>Industry: type 11</td>\n",
       "      <td>2</td>\n",
       "    </tr>\n",
       "    <tr>\n",
       "      <th>16</th>\n",
       "      <td>Military</td>\n",
       "      <td>1</td>\n",
       "    </tr>\n",
       "    <tr>\n",
       "      <th>17</th>\n",
       "      <td>Services</td>\n",
       "      <td>2</td>\n",
       "    </tr>\n",
       "    <tr>\n",
       "      <th>18</th>\n",
       "      <td>Security Ministries</td>\n",
       "      <td>1</td>\n",
       "    </tr>\n",
       "    <tr>\n",
       "      <th>19</th>\n",
       "      <td>Transport: type 4</td>\n",
       "      <td>2</td>\n",
       "    </tr>\n",
       "    <tr>\n",
       "      <th>20</th>\n",
       "      <td>Industry: type 1</td>\n",
       "      <td>1</td>\n",
       "    </tr>\n",
       "    <tr>\n",
       "      <th>21</th>\n",
       "      <td>Emergency</td>\n",
       "      <td>1</td>\n",
       "    </tr>\n",
       "    <tr>\n",
       "      <th>22</th>\n",
       "      <td>Security</td>\n",
       "      <td>1</td>\n",
       "    </tr>\n",
       "    <tr>\n",
       "      <th>23</th>\n",
       "      <td>Trade: type 2</td>\n",
       "      <td>1</td>\n",
       "    </tr>\n",
       "    <tr>\n",
       "      <th>24</th>\n",
       "      <td>University</td>\n",
       "      <td>1</td>\n",
       "    </tr>\n",
       "    <tr>\n",
       "      <th>25</th>\n",
       "      <td>Transport: type 3</td>\n",
       "      <td>1</td>\n",
       "    </tr>\n",
       "  </tbody>\n",
       "</table>\n",
       "</div>"
      ],
      "text/plain": [
       "               employed_by  count\n",
       "0                   School      2\n",
       "1               Government      3\n",
       "2   Business Entity Type 3     12\n",
       "3                 Religion      1\n",
       "4                    Other      3\n",
       "5                      XNA      9\n",
       "6              Electricity      1\n",
       "7                 Medicine      2\n",
       "8   Business Entity Type 2      3\n",
       "9            Self-employed      8\n",
       "10       Transport: type 2      2\n",
       "11            Construction      1\n",
       "12                 Housing      1\n",
       "13            Kindergarten      1\n",
       "14           Trade: type 7      1\n",
       "15       Industry: type 11      2\n",
       "16                Military      1\n",
       "17                Services      2\n",
       "18     Security Ministries      1\n",
       "19       Transport: type 4      2\n",
       "20        Industry: type 1      1\n",
       "21               Emergency      1\n",
       "22                Security      1\n",
       "23           Trade: type 2      1\n",
       "24              University      1\n",
       "25       Transport: type 3      1"
      ]
     },
     "metadata": {},
     "output_type": "display_data"
    },
    {
     "name": "stdout",
     "output_type": "stream",
     "text": [
      "- - - - - - - - - - - - - - - - - - - - - - - - - - - - - - \n",
      "\n",
      "Проверка обозначений по полю education\n"
     ]
    },
    {
     "data": {
      "text/html": [
       "<div>\n",
       "<style scoped>\n",
       "    .dataframe tbody tr th:only-of-type {\n",
       "        vertical-align: middle;\n",
       "    }\n",
       "\n",
       "    .dataframe tbody tr th {\n",
       "        vertical-align: top;\n",
       "    }\n",
       "\n",
       "    .dataframe thead th {\n",
       "        text-align: right;\n",
       "    }\n",
       "</style>\n",
       "<table border=\"1\" class=\"dataframe\">\n",
       "  <thead>\n",
       "    <tr style=\"text-align: right;\">\n",
       "      <th></th>\n",
       "      <th>education</th>\n",
       "      <th>count</th>\n",
       "    </tr>\n",
       "  </thead>\n",
       "  <tbody>\n",
       "    <tr>\n",
       "      <th>0</th>\n",
       "      <td>Higher education</td>\n",
       "      <td>18</td>\n",
       "    </tr>\n",
       "    <tr>\n",
       "      <th>1</th>\n",
       "      <td>Secondary / secondary special</td>\n",
       "      <td>44</td>\n",
       "    </tr>\n",
       "    <tr>\n",
       "      <th>2</th>\n",
       "      <td>Incomplete higher</td>\n",
       "      <td>1</td>\n",
       "    </tr>\n",
       "    <tr>\n",
       "      <th>3</th>\n",
       "      <td>None</td>\n",
       "      <td>1</td>\n",
       "    </tr>\n",
       "  </tbody>\n",
       "</table>\n",
       "</div>"
      ],
      "text/plain": [
       "                       education  count\n",
       "0               Higher education     18\n",
       "1  Secondary / secondary special     44\n",
       "2              Incomplete higher      1\n",
       "3                           None      1"
      ]
     },
     "metadata": {},
     "output_type": "display_data"
    },
    {
     "name": "stdout",
     "output_type": "stream",
     "text": [
      "- - - - - - - - - - - - - - - - - - - - - - - - - - - - - - \n",
      "\n",
      "Проверка обозначений по полю position\n"
     ]
    },
    {
     "data": {
      "text/html": [
       "<div>\n",
       "<style scoped>\n",
       "    .dataframe tbody tr th:only-of-type {\n",
       "        vertical-align: middle;\n",
       "    }\n",
       "\n",
       "    .dataframe tbody tr th {\n",
       "        vertical-align: top;\n",
       "    }\n",
       "\n",
       "    .dataframe thead th {\n",
       "        text-align: right;\n",
       "    }\n",
       "</style>\n",
       "<table border=\"1\" class=\"dataframe\">\n",
       "  <thead>\n",
       "    <tr style=\"text-align: right;\">\n",
       "      <th></th>\n",
       "      <th>position</th>\n",
       "      <th>count</th>\n",
       "    </tr>\n",
       "  </thead>\n",
       "  <tbody>\n",
       "    <tr>\n",
       "      <th>0</th>\n",
       "      <td>Core staff</td>\n",
       "      <td>7</td>\n",
       "    </tr>\n",
       "    <tr>\n",
       "      <th>1</th>\n",
       "      <td>Laborers</td>\n",
       "      <td>17</td>\n",
       "    </tr>\n",
       "    <tr>\n",
       "      <th>2</th>\n",
       "      <td>Accountants</td>\n",
       "      <td>2</td>\n",
       "    </tr>\n",
       "    <tr>\n",
       "      <th>3</th>\n",
       "      <td>Managers</td>\n",
       "      <td>6</td>\n",
       "    </tr>\n",
       "    <tr>\n",
       "      <th>4</th>\n",
       "      <td>&lt;undefined&gt;</td>\n",
       "      <td>14</td>\n",
       "    </tr>\n",
       "    <tr>\n",
       "      <th>5</th>\n",
       "      <td>Drivers</td>\n",
       "      <td>6</td>\n",
       "    </tr>\n",
       "    <tr>\n",
       "      <th>6</th>\n",
       "      <td>Sales staff</td>\n",
       "      <td>6</td>\n",
       "    </tr>\n",
       "    <tr>\n",
       "      <th>7</th>\n",
       "      <td>Cleaning staff</td>\n",
       "      <td>1</td>\n",
       "    </tr>\n",
       "    <tr>\n",
       "      <th>8</th>\n",
       "      <td>Cooking staff</td>\n",
       "      <td>1</td>\n",
       "    </tr>\n",
       "    <tr>\n",
       "      <th>9</th>\n",
       "      <td>Private service staff</td>\n",
       "      <td>2</td>\n",
       "    </tr>\n",
       "    <tr>\n",
       "      <th>10</th>\n",
       "      <td>Medicine staff</td>\n",
       "      <td>1</td>\n",
       "    </tr>\n",
       "    <tr>\n",
       "      <th>11</th>\n",
       "      <td>Security staff</td>\n",
       "      <td>1</td>\n",
       "    </tr>\n",
       "  </tbody>\n",
       "</table>\n",
       "</div>"
      ],
      "text/plain": [
       "                 position  count\n",
       "0              Core staff      7\n",
       "1                Laborers     17\n",
       "2             Accountants      2\n",
       "3                Managers      6\n",
       "4             <undefined>     14\n",
       "5                 Drivers      6\n",
       "6             Sales staff      6\n",
       "7          Cleaning staff      1\n",
       "8           Cooking staff      1\n",
       "9   Private service staff      2\n",
       "10         Medicine staff      1\n",
       "11         Security staff      1"
      ]
     },
     "metadata": {},
     "output_type": "display_data"
    },
    {
     "name": "stdout",
     "output_type": "stream",
     "text": [
      "- - - - - - - - - - - - - - - - - - - - - - - - - - - - - - \n",
      "\n"
     ]
    }
   ],
   "source": [
    "data_type = 'varchar'\n",
    "value_check(table, data_type)"
   ]
  },
  {
   "cell_type": "code",
   "execution_count": 101,
   "metadata": {},
   "outputs": [
    {
     "name": "stdout",
     "output_type": "stream",
     "text": [
      "Как мы видим, нарушения в обозначениях не наблюдаются нигде, кроме поля position, поскольку в нём присутствует значение undefined. Заменим данное значение в таблице на стандартное для пропуска None.\n"
     ]
    }
   ],
   "source": [
    "print('Как мы видим, нарушения в обозначениях не наблюдаются нигде, кроме поля position, поскольку в нём присутствует значение undefined. Заменим данное значение в таблице на стандартное для пропуска None.')"
   ]
  },
  {
   "cell_type": "code",
   "execution_count": 102,
   "metadata": {},
   "outputs": [
    {
     "name": "stdout",
     "output_type": "stream",
     "text": [
      "14  значений <undefined> заменены на None\n"
     ]
    }
   ],
   "source": [
    "cursor.execute(\"UPDATE applications SET position = NULL WHERE position = '<undefined>'\")\n",
    "cursor.execute(\"\"\"SELECT ROW_COUNT()\"\"\")\n",
    "counter = cursor.fetchall()[0][0]\n",
    "cnx.commit()\n",
    "print(counter, \" значений <undefined> заменены на None\")"
   ]
  },
  {
   "cell_type": "markdown",
   "metadata": {},
   "source": [
    "Проверка на соотношение количества членов семьи и детей (количество членов семьи не должно превышать сумму детей и родителей в зависимости от семейного положения родителей)"
   ]
  },
  {
   "cell_type": "code",
   "execution_count": 103,
   "metadata": {},
   "outputs": [
    {
     "name": "stdout",
     "output_type": "stream",
     "text": [
      "Ошибки в соотношении количества членов семьи и детей не найдены\n"
     ]
    }
   ],
   "source": [
    "cursor.execute(\"\"\"SELECT id, family, children, marital_status FROM applications \n",
    "WHERE marital_status = 'Married' OR marital_status = 'Civil marriage' GROUP BY id\n",
    "HAVING COUNT(CASE WHEN family <> children + 2 THEN 1 END) UNION ALL SELECT id, family, children, marital_status FROM applications \n",
    "WHERE marital_status = 'Separated' OR marital_status = 'Widow' OR marital_status = 'Single / not married' GROUP BY id\n",
    "HAVING COUNT(CASE WHEN family <> children + 1 THEN 1 END)\"\"\")\n",
    "data = cursor.fetchall()\n",
    "if not data:\n",
    "    print('Ошибки в соотношении количества членов семьи и детей не найдены')\n",
    "else:\n",
    "    data1 = pd.DataFrame(data)\n",
    "    data1.columns = [x[0] for x in cursor.description]\n",
    "    print('Ошибки в соотношении количества членов семьи и детей найдены по следующим заёмщикам:')\n",
    "    display(data1)"
   ]
  },
  {
   "cell_type": "code",
   "execution_count": 104,
   "metadata": {},
   "outputs": [
    {
     "name": "stdout",
     "output_type": "stream",
     "text": [
      "Проверка числовых переменных:\n"
     ]
    }
   ],
   "source": [
    "print('Проверка числовых переменных:')"
   ]
  },
  {
   "cell_type": "code",
   "execution_count": 105,
   "metadata": {},
   "outputs": [
    {
     "name": "stdout",
     "output_type": "stream",
     "text": [
      "Проверка обозначений по полю id\n"
     ]
    },
    {
     "data": {
      "text/html": [
       "<div>\n",
       "<style scoped>\n",
       "    .dataframe tbody tr th:only-of-type {\n",
       "        vertical-align: middle;\n",
       "    }\n",
       "\n",
       "    .dataframe tbody tr th {\n",
       "        vertical-align: top;\n",
       "    }\n",
       "\n",
       "    .dataframe thead th {\n",
       "        text-align: right;\n",
       "    }\n",
       "</style>\n",
       "<table border=\"1\" class=\"dataframe\">\n",
       "  <thead>\n",
       "    <tr style=\"text-align: right;\">\n",
       "      <th></th>\n",
       "      <th>MAX(id)</th>\n",
       "      <th>MIN(id)</th>\n",
       "      <th>null_count</th>\n",
       "    </tr>\n",
       "  </thead>\n",
       "  <tbody>\n",
       "    <tr>\n",
       "      <th>0</th>\n",
       "      <td>100076</td>\n",
       "      <td>100003</td>\n",
       "      <td>0</td>\n",
       "    </tr>\n",
       "  </tbody>\n",
       "</table>\n",
       "</div>"
      ],
      "text/plain": [
       "   MAX(id)  MIN(id)  null_count\n",
       "0   100076   100003           0"
      ]
     },
     "metadata": {},
     "output_type": "display_data"
    },
    {
     "name": "stdout",
     "output_type": "stream",
     "text": [
      "- - - - - - - - - - - - - - - - - - - - - - - - - - - - - - \n",
      "\n",
      "Проверка обозначений по полю income\n"
     ]
    },
    {
     "data": {
      "text/html": [
       "<div>\n",
       "<style scoped>\n",
       "    .dataframe tbody tr th:only-of-type {\n",
       "        vertical-align: middle;\n",
       "    }\n",
       "\n",
       "    .dataframe tbody tr th {\n",
       "        vertical-align: top;\n",
       "    }\n",
       "\n",
       "    .dataframe thead th {\n",
       "        text-align: right;\n",
       "    }\n",
       "</style>\n",
       "<table border=\"1\" class=\"dataframe\">\n",
       "  <thead>\n",
       "    <tr style=\"text-align: right;\">\n",
       "      <th></th>\n",
       "      <th>MAX(income)</th>\n",
       "      <th>MIN(income)</th>\n",
       "      <th>null_count</th>\n",
       "    </tr>\n",
       "  </thead>\n",
       "  <tbody>\n",
       "    <tr>\n",
       "      <th>0</th>\n",
       "      <td>540000</td>\n",
       "      <td>38419</td>\n",
       "      <td>1</td>\n",
       "    </tr>\n",
       "  </tbody>\n",
       "</table>\n",
       "</div>"
      ],
      "text/plain": [
       "   MAX(income)  MIN(income)  null_count\n",
       "0       540000        38419           1"
      ]
     },
     "metadata": {},
     "output_type": "display_data"
    },
    {
     "name": "stdout",
     "output_type": "stream",
     "text": [
      "- - - - - - - - - - - - - - - - - - - - - - - - - - - - - - \n",
      "\n",
      "Проверка обозначений по полю age_of_car\n"
     ]
    },
    {
     "data": {
      "text/html": [
       "<div>\n",
       "<style scoped>\n",
       "    .dataframe tbody tr th:only-of-type {\n",
       "        vertical-align: middle;\n",
       "    }\n",
       "\n",
       "    .dataframe tbody tr th {\n",
       "        vertical-align: top;\n",
       "    }\n",
       "\n",
       "    .dataframe thead th {\n",
       "        text-align: right;\n",
       "    }\n",
       "</style>\n",
       "<table border=\"1\" class=\"dataframe\">\n",
       "  <thead>\n",
       "    <tr style=\"text-align: right;\">\n",
       "      <th></th>\n",
       "      <th>MAX(age_of_car)</th>\n",
       "      <th>MIN(age_of_car)</th>\n",
       "      <th>null_count</th>\n",
       "    </tr>\n",
       "  </thead>\n",
       "  <tbody>\n",
       "    <tr>\n",
       "      <th>0</th>\n",
       "      <td>26</td>\n",
       "      <td>1</td>\n",
       "      <td>46</td>\n",
       "    </tr>\n",
       "  </tbody>\n",
       "</table>\n",
       "</div>"
      ],
      "text/plain": [
       "   MAX(age_of_car)  MIN(age_of_car)  null_count\n",
       "0               26                1          46"
      ]
     },
     "metadata": {},
     "output_type": "display_data"
    },
    {
     "name": "stdout",
     "output_type": "stream",
     "text": [
      "- - - - - - - - - - - - - - - - - - - - - - - - - - - - - - \n",
      "\n",
      "Проверка обозначений по полю children\n"
     ]
    },
    {
     "data": {
      "text/html": [
       "<div>\n",
       "<style scoped>\n",
       "    .dataframe tbody tr th:only-of-type {\n",
       "        vertical-align: middle;\n",
       "    }\n",
       "\n",
       "    .dataframe tbody tr th {\n",
       "        vertical-align: top;\n",
       "    }\n",
       "\n",
       "    .dataframe thead th {\n",
       "        text-align: right;\n",
       "    }\n",
       "</style>\n",
       "<table border=\"1\" class=\"dataframe\">\n",
       "  <thead>\n",
       "    <tr style=\"text-align: right;\">\n",
       "      <th></th>\n",
       "      <th>MAX(children)</th>\n",
       "      <th>MIN(children)</th>\n",
       "      <th>null_count</th>\n",
       "    </tr>\n",
       "  </thead>\n",
       "  <tbody>\n",
       "    <tr>\n",
       "      <th>0</th>\n",
       "      <td>2</td>\n",
       "      <td>0</td>\n",
       "      <td>1</td>\n",
       "    </tr>\n",
       "  </tbody>\n",
       "</table>\n",
       "</div>"
      ],
      "text/plain": [
       "   MAX(children)  MIN(children)  null_count\n",
       "0              2              0           1"
      ]
     },
     "metadata": {},
     "output_type": "display_data"
    },
    {
     "name": "stdout",
     "output_type": "stream",
     "text": [
      "- - - - - - - - - - - - - - - - - - - - - - - - - - - - - - \n",
      "\n",
      "Проверка обозначений по полю family\n"
     ]
    },
    {
     "data": {
      "text/html": [
       "<div>\n",
       "<style scoped>\n",
       "    .dataframe tbody tr th:only-of-type {\n",
       "        vertical-align: middle;\n",
       "    }\n",
       "\n",
       "    .dataframe tbody tr th {\n",
       "        vertical-align: top;\n",
       "    }\n",
       "\n",
       "    .dataframe thead th {\n",
       "        text-align: right;\n",
       "    }\n",
       "</style>\n",
       "<table border=\"1\" class=\"dataframe\">\n",
       "  <thead>\n",
       "    <tr style=\"text-align: right;\">\n",
       "      <th></th>\n",
       "      <th>MAX(family)</th>\n",
       "      <th>MIN(family)</th>\n",
       "      <th>null_count</th>\n",
       "    </tr>\n",
       "  </thead>\n",
       "  <tbody>\n",
       "    <tr>\n",
       "      <th>0</th>\n",
       "      <td>4</td>\n",
       "      <td>1</td>\n",
       "      <td>1</td>\n",
       "    </tr>\n",
       "  </tbody>\n",
       "</table>\n",
       "</div>"
      ],
      "text/plain": [
       "   MAX(family)  MIN(family)  null_count\n",
       "0            4            1           1"
      ]
     },
     "metadata": {},
     "output_type": "display_data"
    },
    {
     "name": "stdout",
     "output_type": "stream",
     "text": [
      "- - - - - - - - - - - - - - - - - - - - - - - - - - - - - - \n",
      "\n",
      "Проверка обозначений по полю age\n"
     ]
    },
    {
     "data": {
      "text/html": [
       "<div>\n",
       "<style scoped>\n",
       "    .dataframe tbody tr th:only-of-type {\n",
       "        vertical-align: middle;\n",
       "    }\n",
       "\n",
       "    .dataframe tbody tr th {\n",
       "        vertical-align: top;\n",
       "    }\n",
       "\n",
       "    .dataframe thead th {\n",
       "        text-align: right;\n",
       "    }\n",
       "</style>\n",
       "<table border=\"1\" class=\"dataframe\">\n",
       "  <thead>\n",
       "    <tr style=\"text-align: right;\">\n",
       "      <th></th>\n",
       "      <th>MAX(age)</th>\n",
       "      <th>MIN(age)</th>\n",
       "      <th>null_count</th>\n",
       "    </tr>\n",
       "  </thead>\n",
       "  <tbody>\n",
       "    <tr>\n",
       "      <th>0</th>\n",
       "      <td>71</td>\n",
       "      <td>21</td>\n",
       "      <td>0</td>\n",
       "    </tr>\n",
       "  </tbody>\n",
       "</table>\n",
       "</div>"
      ],
      "text/plain": [
       "   MAX(age)  MIN(age)  null_count\n",
       "0        71        21           0"
      ]
     },
     "metadata": {},
     "output_type": "display_data"
    },
    {
     "name": "stdout",
     "output_type": "stream",
     "text": [
      "- - - - - - - - - - - - - - - - - - - - - - - - - - - - - - \n",
      "\n"
     ]
    }
   ],
   "source": [
    "data_type = 'int'\n",
    "value_check(table, data_type)"
   ]
  },
  {
   "cell_type": "markdown",
   "metadata": {},
   "source": [
    "Если в данных есть отрицательные значения, исправим это, если нет - укажем, что ошибка не обнаружена"
   ]
  },
  {
   "cell_type": "code",
   "execution_count": 106,
   "metadata": {},
   "outputs": [
    {
     "name": "stdout",
     "output_type": "stream",
     "text": [
      "Обнаружили очень много пустых значения для поля age_of_car, заменим его на более информативные категории есть машина - нет машины\n"
     ]
    }
   ],
   "source": [
    "print('Обнаружили очень много пустых значения для поля age_of_car, заменим его на более информативные категории есть машина - нет машины')"
   ]
  },
  {
   "cell_type": "code",
   "execution_count": 107,
   "metadata": {},
   "outputs": [],
   "source": [
    "cursor.execute(\"ALTER TABLE applications ADD car_owner VARCHAR(30)\")\n",
    "cursor.execute(\"UPDATE applications SET car_owner = 'no_car' WHERE age_of_car is NULL\")\n",
    "cnx.commit()\n",
    "cursor.execute(\"UPDATE applications SET car_owner = 'owns_car' WHERE age_of_car is not NULL\")\n",
    "cnx.commit()\n",
    "cursor.execute(\"ALTER TABLE applications DROP age_of_car\")"
   ]
  },
  {
   "cell_type": "code",
   "execution_count": 108,
   "metadata": {},
   "outputs": [
    {
     "name": "stdout",
     "output_type": "stream",
     "text": [
      "Отрицательные значения для поля id не найдены, ошибок нет\n",
      "Отрицательные значения для поля income не найдены, ошибок нет\n",
      "Отрицательные значения для поля children не найдены, ошибок нет\n",
      "Отрицательные значения для поля family не найдены, ошибок нет\n",
      "Отрицательные значения для поля age не найдены, ошибок нет\n"
     ]
    }
   ],
   "source": [
    "int_negative_value_update('applications')"
   ]
  },
  {
   "cell_type": "markdown",
   "metadata": {},
   "source": [
    "Проверим значения в полях с датами:"
   ]
  },
  {
   "cell_type": "code",
   "execution_count": 109,
   "metadata": {},
   "outputs": [
    {
     "name": "stdout",
     "output_type": "stream",
     "text": [
      "Проверка обозначений по полю application_date\n"
     ]
    },
    {
     "data": {
      "text/html": [
       "<div>\n",
       "<style scoped>\n",
       "    .dataframe tbody tr th:only-of-type {\n",
       "        vertical-align: middle;\n",
       "    }\n",
       "\n",
       "    .dataframe tbody tr th {\n",
       "        vertical-align: top;\n",
       "    }\n",
       "\n",
       "    .dataframe thead th {\n",
       "        text-align: right;\n",
       "    }\n",
       "</style>\n",
       "<table border=\"1\" class=\"dataframe\">\n",
       "  <thead>\n",
       "    <tr style=\"text-align: right;\">\n",
       "      <th></th>\n",
       "      <th>MAX(application_date)</th>\n",
       "      <th>MIN(application_date)</th>\n",
       "      <th>null_count</th>\n",
       "    </tr>\n",
       "  </thead>\n",
       "  <tbody>\n",
       "    <tr>\n",
       "      <th>0</th>\n",
       "      <td>2018-12-29</td>\n",
       "      <td>2014-05-06</td>\n",
       "      <td>0</td>\n",
       "    </tr>\n",
       "  </tbody>\n",
       "</table>\n",
       "</div>"
      ],
      "text/plain": [
       "  MAX(application_date) MIN(application_date)  null_count\n",
       "0            2018-12-29            2014-05-06           0"
      ]
     },
     "metadata": {},
     "output_type": "display_data"
    },
    {
     "name": "stdout",
     "output_type": "stream",
     "text": [
      "- - - - - - - - - - - - - - - - - - - - - - - - - - - - - - \n",
      "\n"
     ]
    }
   ],
   "source": [
    "data_type = 'date'\n",
    "value_check(table, data_type)"
   ]
  },
  {
   "cell_type": "markdown",
   "metadata": {},
   "source": [
    "Проверим, есть ли в данных с датами некорректные значения (даты из будущего, займщики младше 18 лет), создадим поле возраста"
   ]
  },
  {
   "cell_type": "code",
   "execution_count": 110,
   "metadata": {},
   "outputs": [
    {
     "name": "stdout",
     "output_type": "stream",
     "text": [
      "Среди дат по полю application_date некорректные значения не найдены\n",
      "- - - - - - - - - - - - - - - - - - - - - - - - - - - - - - \n",
      "Заёмщиков младше 18 лет не найдено\n"
     ]
    }
   ],
   "source": [
    "date_value_update(table)"
   ]
  },
  {
   "cell_type": "markdown",
   "metadata": {},
   "source": [
    "#### Проверка значений в таблице контрактов"
   ]
  },
  {
   "cell_type": "code",
   "execution_count": 111,
   "metadata": {},
   "outputs": [],
   "source": [
    "table = 'contracts'"
   ]
  },
  {
   "cell_type": "markdown",
   "metadata": {},
   "source": [
    "Проверим таблицу контрактов по всем категориальным полям"
   ]
  },
  {
   "cell_type": "code",
   "execution_count": 112,
   "metadata": {},
   "outputs": [
    {
     "name": "stdout",
     "output_type": "stream",
     "text": [
      "Проверка обозначений по полю type\n"
     ]
    },
    {
     "data": {
      "text/html": [
       "<div>\n",
       "<style scoped>\n",
       "    .dataframe tbody tr th:only-of-type {\n",
       "        vertical-align: middle;\n",
       "    }\n",
       "\n",
       "    .dataframe tbody tr th {\n",
       "        vertical-align: top;\n",
       "    }\n",
       "\n",
       "    .dataframe thead th {\n",
       "        text-align: right;\n",
       "    }\n",
       "</style>\n",
       "<table border=\"1\" class=\"dataframe\">\n",
       "  <thead>\n",
       "    <tr style=\"text-align: right;\">\n",
       "      <th></th>\n",
       "      <th>type</th>\n",
       "      <th>count</th>\n",
       "    </tr>\n",
       "  </thead>\n",
       "  <tbody>\n",
       "    <tr>\n",
       "      <th>0</th>\n",
       "      <td>Cash loans</td>\n",
       "      <td>51</td>\n",
       "    </tr>\n",
       "    <tr>\n",
       "      <th>1</th>\n",
       "      <td>Revolving loans</td>\n",
       "      <td>9</td>\n",
       "    </tr>\n",
       "  </tbody>\n",
       "</table>\n",
       "</div>"
      ],
      "text/plain": [
       "              type  count\n",
       "0       Cash loans     51\n",
       "1  Revolving loans      9"
      ]
     },
     "metadata": {},
     "output_type": "display_data"
    },
    {
     "name": "stdout",
     "output_type": "stream",
     "text": [
      "- - - - - - - - - - - - - - - - - - - - - - - - - - - - - - \n",
      "\n"
     ]
    }
   ],
   "source": [
    "data_type = 'varchar'\n",
    "value_check(table, data_type)"
   ]
  },
  {
   "cell_type": "markdown",
   "metadata": {},
   "source": [
    "Как мы видим, нарушения в обозначениях не наблюдаются"
   ]
  },
  {
   "cell_type": "markdown",
   "metadata": {},
   "source": [
    "Проверка числовых переменных:"
   ]
  },
  {
   "cell_type": "code",
   "execution_count": 113,
   "metadata": {},
   "outputs": [
    {
     "name": "stdout",
     "output_type": "stream",
     "text": [
      "Проверка обозначений по полю id\n"
     ]
    },
    {
     "data": {
      "text/html": [
       "<div>\n",
       "<style scoped>\n",
       "    .dataframe tbody tr th:only-of-type {\n",
       "        vertical-align: middle;\n",
       "    }\n",
       "\n",
       "    .dataframe tbody tr th {\n",
       "        vertical-align: top;\n",
       "    }\n",
       "\n",
       "    .dataframe thead th {\n",
       "        text-align: right;\n",
       "    }\n",
       "</style>\n",
       "<table border=\"1\" class=\"dataframe\">\n",
       "  <thead>\n",
       "    <tr style=\"text-align: right;\">\n",
       "      <th></th>\n",
       "      <th>MAX(id)</th>\n",
       "      <th>MIN(id)</th>\n",
       "      <th>null_count</th>\n",
       "    </tr>\n",
       "  </thead>\n",
       "  <tbody>\n",
       "    <tr>\n",
       "      <th>0</th>\n",
       "      <td>100075</td>\n",
       "      <td>100003</td>\n",
       "      <td>0</td>\n",
       "    </tr>\n",
       "  </tbody>\n",
       "</table>\n",
       "</div>"
      ],
      "text/plain": [
       "   MAX(id)  MIN(id)  null_count\n",
       "0   100075   100003           0"
      ]
     },
     "metadata": {},
     "output_type": "display_data"
    },
    {
     "name": "stdout",
     "output_type": "stream",
     "text": [
      "- - - - - - - - - - - - - - - - - - - - - - - - - - - - - - \n",
      "\n",
      "Проверка обозначений по полю amount\n"
     ]
    },
    {
     "data": {
      "text/html": [
       "<div>\n",
       "<style scoped>\n",
       "    .dataframe tbody tr th:only-of-type {\n",
       "        vertical-align: middle;\n",
       "    }\n",
       "\n",
       "    .dataframe tbody tr th {\n",
       "        vertical-align: top;\n",
       "    }\n",
       "\n",
       "    .dataframe thead th {\n",
       "        text-align: right;\n",
       "    }\n",
       "</style>\n",
       "<table border=\"1\" class=\"dataframe\">\n",
       "  <thead>\n",
       "    <tr style=\"text-align: right;\">\n",
       "      <th></th>\n",
       "      <th>MAX(amount)</th>\n",
       "      <th>MIN(amount)</th>\n",
       "      <th>null_count</th>\n",
       "    </tr>\n",
       "  </thead>\n",
       "  <tbody>\n",
       "    <tr>\n",
       "      <th>0</th>\n",
       "      <td>1663988</td>\n",
       "      <td>80865</td>\n",
       "      <td>0</td>\n",
       "    </tr>\n",
       "  </tbody>\n",
       "</table>\n",
       "</div>"
      ],
      "text/plain": [
       "   MAX(amount)  MIN(amount)  null_count\n",
       "0      1663988        80865           0"
      ]
     },
     "metadata": {},
     "output_type": "display_data"
    },
    {
     "name": "stdout",
     "output_type": "stream",
     "text": [
      "- - - - - - - - - - - - - - - - - - - - - - - - - - - - - - \n",
      "\n",
      "Проверка обозначений по полю term_month\n"
     ]
    },
    {
     "data": {
      "text/html": [
       "<div>\n",
       "<style scoped>\n",
       "    .dataframe tbody tr th:only-of-type {\n",
       "        vertical-align: middle;\n",
       "    }\n",
       "\n",
       "    .dataframe tbody tr th {\n",
       "        vertical-align: top;\n",
       "    }\n",
       "\n",
       "    .dataframe thead th {\n",
       "        text-align: right;\n",
       "    }\n",
       "</style>\n",
       "<table border=\"1\" class=\"dataframe\">\n",
       "  <thead>\n",
       "    <tr style=\"text-align: right;\">\n",
       "      <th></th>\n",
       "      <th>MAX(term_month)</th>\n",
       "      <th>MIN(term_month)</th>\n",
       "      <th>null_count</th>\n",
       "    </tr>\n",
       "  </thead>\n",
       "  <tbody>\n",
       "    <tr>\n",
       "      <th>0</th>\n",
       "      <td>41</td>\n",
       "      <td>12</td>\n",
       "      <td>0</td>\n",
       "    </tr>\n",
       "  </tbody>\n",
       "</table>\n",
       "</div>"
      ],
      "text/plain": [
       "   MAX(term_month)  MIN(term_month)  null_count\n",
       "0               41               12           0"
      ]
     },
     "metadata": {},
     "output_type": "display_data"
    },
    {
     "name": "stdout",
     "output_type": "stream",
     "text": [
      "- - - - - - - - - - - - - - - - - - - - - - - - - - - - - - \n",
      "\n",
      "Проверка обозначений по полю contract_number\n"
     ]
    },
    {
     "data": {
      "text/html": [
       "<div>\n",
       "<style scoped>\n",
       "    .dataframe tbody tr th:only-of-type {\n",
       "        vertical-align: middle;\n",
       "    }\n",
       "\n",
       "    .dataframe tbody tr th {\n",
       "        vertical-align: top;\n",
       "    }\n",
       "\n",
       "    .dataframe thead th {\n",
       "        text-align: right;\n",
       "    }\n",
       "</style>\n",
       "<table border=\"1\" class=\"dataframe\">\n",
       "  <thead>\n",
       "    <tr style=\"text-align: right;\">\n",
       "      <th></th>\n",
       "      <th>MAX(contract_number)</th>\n",
       "      <th>MIN(contract_number)</th>\n",
       "      <th>null_count</th>\n",
       "    </tr>\n",
       "  </thead>\n",
       "  <tbody>\n",
       "    <tr>\n",
       "      <th>0</th>\n",
       "      <td>101028</td>\n",
       "      <td>100022</td>\n",
       "      <td>0</td>\n",
       "    </tr>\n",
       "  </tbody>\n",
       "</table>\n",
       "</div>"
      ],
      "text/plain": [
       "   MAX(contract_number)  MIN(contract_number)  null_count\n",
       "0                101028                100022           0"
      ]
     },
     "metadata": {},
     "output_type": "display_data"
    },
    {
     "name": "stdout",
     "output_type": "stream",
     "text": [
      "- - - - - - - - - - - - - - - - - - - - - - - - - - - - - - \n",
      "\n",
      "Проверка обозначений по полю annuity\n"
     ]
    },
    {
     "data": {
      "text/html": [
       "<div>\n",
       "<style scoped>\n",
       "    .dataframe tbody tr th:only-of-type {\n",
       "        vertical-align: middle;\n",
       "    }\n",
       "\n",
       "    .dataframe tbody tr th {\n",
       "        vertical-align: top;\n",
       "    }\n",
       "\n",
       "    .dataframe thead th {\n",
       "        text-align: right;\n",
       "    }\n",
       "</style>\n",
       "<table border=\"1\" class=\"dataframe\">\n",
       "  <thead>\n",
       "    <tr style=\"text-align: right;\">\n",
       "      <th></th>\n",
       "      <th>MAX(annuity)</th>\n",
       "      <th>MIN(annuity)</th>\n",
       "      <th>null_count</th>\n",
       "    </tr>\n",
       "  </thead>\n",
       "  <tbody>\n",
       "    <tr>\n",
       "      <th>0</th>\n",
       "      <td>86990</td>\n",
       "      <td>5882</td>\n",
       "      <td>0</td>\n",
       "    </tr>\n",
       "  </tbody>\n",
       "</table>\n",
       "</div>"
      ],
      "text/plain": [
       "   MAX(annuity)  MIN(annuity)  null_count\n",
       "0         86990          5882           0"
      ]
     },
     "metadata": {},
     "output_type": "display_data"
    },
    {
     "name": "stdout",
     "output_type": "stream",
     "text": [
      "- - - - - - - - - - - - - - - - - - - - - - - - - - - - - - \n",
      "\n"
     ]
    }
   ],
   "source": [
    "data_type = 'int'\n",
    "value_check(table, data_type)"
   ]
  },
  {
   "cell_type": "code",
   "execution_count": 114,
   "metadata": {},
   "outputs": [
    {
     "name": "stdout",
     "output_type": "stream",
     "text": [
      "Отрицательные значения для поля id не найдены, ошибок нет\n",
      "Отрицательные значения для поля amount не найдены, ошибок нет\n",
      "Отрицательные значения для поля term_month не найдены, ошибок нет\n",
      "Отрицательные значения для поля contract_number не найдены, ошибок нет\n",
      "Отрицательные значения для поля annuity не найдены, ошибок нет\n"
     ]
    }
   ],
   "source": [
    "int_negative_value_update(table)"
   ]
  },
  {
   "cell_type": "markdown",
   "metadata": {},
   "source": [
    "Нарушения по числовым переменным также не обнаружены"
   ]
  },
  {
   "cell_type": "markdown",
   "metadata": {},
   "source": [
    "Проверим значениях в полях дат:"
   ]
  },
  {
   "cell_type": "code",
   "execution_count": 115,
   "metadata": {},
   "outputs": [
    {
     "name": "stdout",
     "output_type": "stream",
     "text": [
      "Проверка обозначений по полю contract_date\n"
     ]
    },
    {
     "data": {
      "text/html": [
       "<div>\n",
       "<style scoped>\n",
       "    .dataframe tbody tr th:only-of-type {\n",
       "        vertical-align: middle;\n",
       "    }\n",
       "\n",
       "    .dataframe tbody tr th {\n",
       "        vertical-align: top;\n",
       "    }\n",
       "\n",
       "    .dataframe thead th {\n",
       "        text-align: right;\n",
       "    }\n",
       "</style>\n",
       "<table border=\"1\" class=\"dataframe\">\n",
       "  <thead>\n",
       "    <tr style=\"text-align: right;\">\n",
       "      <th></th>\n",
       "      <th>MAX(contract_date)</th>\n",
       "      <th>MIN(contract_date)</th>\n",
       "      <th>null_count</th>\n",
       "    </tr>\n",
       "  </thead>\n",
       "  <tbody>\n",
       "    <tr>\n",
       "      <th>0</th>\n",
       "      <td>2018-12-30</td>\n",
       "      <td>2014-01-17</td>\n",
       "      <td>0</td>\n",
       "    </tr>\n",
       "  </tbody>\n",
       "</table>\n",
       "</div>"
      ],
      "text/plain": [
       "  MAX(contract_date) MIN(contract_date)  null_count\n",
       "0         2018-12-30         2014-01-17           0"
      ]
     },
     "metadata": {},
     "output_type": "display_data"
    },
    {
     "name": "stdout",
     "output_type": "stream",
     "text": [
      "- - - - - - - - - - - - - - - - - - - - - - - - - - - - - - \n",
      "\n"
     ]
    }
   ],
   "source": [
    "data_type = 'date'\n",
    "value_check(table, data_type)"
   ]
  },
  {
   "cell_type": "code",
   "execution_count": 116,
   "metadata": {},
   "outputs": [
    {
     "name": "stdout",
     "output_type": "stream",
     "text": [
      "Среди дат по полю contract_date некорректные значения не найдены\n",
      "- - - - - - - - - - - - - - - - - - - - - - - - - - - - - - \n",
      "Заёмщиков младше 18 лет не найдено\n"
     ]
    }
   ],
   "source": [
    "date_value_update(table)"
   ]
  },
  {
   "cell_type": "markdown",
   "metadata": {},
   "source": [
    "В таблице контрактов некорректных значений в формате даты нет"
   ]
  },
  {
   "cell_type": "code",
   "execution_count": null,
   "metadata": {},
   "outputs": [],
   "source": []
  },
  {
   "cell_type": "markdown",
   "metadata": {},
   "source": [
    "#### Блок Лапшовой Полины"
   ]
  },
  {
   "cell_type": "markdown",
   "metadata": {},
   "source": [
    "## Кодировка текстовых полей"
   ]
  },
  {
   "cell_type": "code",
   "execution_count": 62,
   "metadata": {},
   "outputs": [],
   "source": [
    "cnx = mysql.connector.connect(host = 'localhost', database = database, user = user)\n",
    "cursor = cnx.cursor(buffered=True)\n",
    "\n",
    "def encoding_and_creating_dictionary(table):\n",
    "    le = preprocessing.LabelEncoder()\n",
    "    # создаём таблицу для словаря\n",
    "    cursor.execute(\"\"\"CREATE TABLE IF NOT EXISTS {0}_dict (column_name VARCHAR(100), category VARCHAR(100), encoding INT)\"\"\".format(table))\n",
    "    # кодируем все текстовые колонки\n",
    "    cursor.execute(\"\"\"SELECT COLUMN_NAME FROM INFORMATION_SCHEMA.COLUMNS\n",
    "    WHERE DATA_TYPE = 'varchar' AND TABLE_SCHEMA = '{0}'\n",
    "    AND TABLE_NAME = '{1}'\"\"\".format(database, table))\n",
    "    data_type_col = pd.DataFrame(cursor.fetchall())[0].tolist()\n",
    "\n",
    "    for i in range (0,len(data_type_col)):\n",
    "        cursor.execute(\"\"\"SELECT id, {0} FROM {1}\"\"\".format(data_type_col[i], table))\n",
    "        data = pd.DataFrame(cursor.fetchall())\n",
    "        data.columns = [x[0] for x in cursor.description]\n",
    "        data = data.dropna(how = 'any').reset_index(drop = True)\n",
    "        data['encoded'] = le.fit_transform(data[data_type_col[i]])\n",
    "        cursor.execute(\"\"\"ALTER TABLE {0} DROP {1}\"\"\".format(table, data_type_col[i]))\n",
    "        cursor.execute(\"\"\"ALTER TABLE {0} ADD {1} INT\"\"\".format(table, data_type_col[i]))\n",
    "        for j in range (0, len (data)):\n",
    "            cursor.execute(\"\"\"UPDATE {0} SET {1} = {2} \n",
    "            WHERE {0}.id={3}\"\"\".format(table, data_type_col[i], data['encoded'][j], data['id'][j]))\n",
    "            cnx.commit()\n",
    "            \n",
    "            \n",
    "        # создаём для текущей текстовой колонки таблицу с данными для заполнения словаря\n",
    "        to_dict = data[[data_type_col[i],'encoded']].drop_duplicates().sort_values(by = ['encoded']).reset_index(drop = True)\n",
    "        to_dict.columns = ['category','encoding']\n",
    "        to_dict['column_name'] = data_type_col[i]\n",
    "        to_dict = to_dict[['column_name', 'category', 'encoding']]\n",
    "\n",
    "        # заполняем подготовленными данными по текущему текстовому столбцу словарь кодировки\n",
    "        sql = \"\"\"INSERT INTO {0}_dict VALUES (%s, %s, %s)\"\"\".format(table)\n",
    "        for k in range(0, to_dict.shape[0]):\n",
    "            val = (to_dict.iloc[k][0], to_dict.iloc[k][1], int(to_dict.iloc[k][2]))\n",
    "            cursor.execute(sql, val)\n",
    "\n",
    "            cnx.commit()"
   ]
  },
  {
   "cell_type": "code",
   "execution_count": 63,
   "metadata": {
    "scrolled": true
   },
   "outputs": [],
   "source": [
    "encoding_and_creating_dictionary('applications')"
   ]
  },
  {
   "cell_type": "code",
   "execution_count": 64,
   "metadata": {},
   "outputs": [],
   "source": [
    "encoding_and_creating_dictionary('contracts')"
   ]
  },
  {
   "cell_type": "markdown",
   "metadata": {},
   "source": [
    "## Выгрузка данных в форматы csv"
   ]
  },
  {
   "cell_type": "code",
   "execution_count": 64,
   "metadata": {},
   "outputs": [],
   "source": [
    "cnx = mysql.connector.connect(host = 'localhost', database = database, user = user)\n",
    "cursor = cnx.cursor(buffered=True)\n",
    "\n",
    "applications_df = pd.read_sql_query(\"SELECT * FROM applications\", cnx)\n",
    "contracts_df = pd.read_sql_query(\"SELECT * FROM contracts\", cnx)\n",
    "applications_dict_df = pd.read_sql_query(\"SELECT * FROM applications_dict\", cnx)\n",
    "contracts_dict_df = pd.read_sql_query(\"SELECT * FROM contracts_dict\", cnx)\n",
    "cnx.close()"
   ]
  },
  {
   "cell_type": "code",
   "execution_count": 38,
   "metadata": {},
   "outputs": [],
   "source": [
    "applications_df.to_csv(my_path + '\\\\output_1\\\\applications_df.csv', header=True)\n",
    "contracts_df.to_csv(my_path + '\\\\output_1\\\\contracts_df.csv', header=True)\n",
    "applications_dict_df.to_csv(my_path + '\\\\output_1\\\\applications_dict_df.csv', header=True)\n",
    "contracts_dict_df.to_csv(my_path + '\\\\output_1\\\\contracts_dict_df.csv', header=True)"
   ]
  },
  {
   "cell_type": "code",
   "execution_count": 117,
   "metadata": {},
   "outputs": [],
   "source": [
    "cnx.close()"
   ]
  },
  {
   "cell_type": "code",
   "execution_count": 4,
   "metadata": {},
   "outputs": [
    {
     "name": "stdout",
     "output_type": "stream",
     "text": [
      "part_1 выполнена, таблицы анкет, контрактов, словари для их расшифровки и таблица платежей добавлены к базе данных, \n",
      "посмотрите на результаты в папке output_1\n"
     ]
    }
   ],
   "source": [
    "print(\"\"\"part_1 выполнена, таблицы анкет, контрактов, словари для их расшифровки и таблица платежей добавлены к базе данных, \n",
    "посмотрите на результаты в папке output_1\"\"\")"
   ]
  },
  {
   "cell_type": "code",
   "execution_count": null,
   "metadata": {},
   "outputs": [],
   "source": []
  }
 ],
 "metadata": {
  "kernelspec": {
   "display_name": "Python 3",
   "language": "python",
   "name": "python3"
  },
  "language_info": {
   "codemirror_mode": {
    "name": "ipython",
    "version": 3
   },
   "file_extension": ".py",
   "mimetype": "text/x-python",
   "name": "python",
   "nbconvert_exporter": "python",
   "pygments_lexer": "ipython3",
   "version": "3.7.0"
  }
 },
 "nbformat": 4,
 "nbformat_minor": 2
}
