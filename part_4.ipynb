{
 "cells": [
  {
   "cell_type": "code",
   "execution_count": 6,
   "metadata": {},
   "outputs": [],
   "source": [
    "import pandas as pd ## Обновить pandas до последней версии\n",
    "import numpy as np\n",
    "import math\n",
    "import os\n",
    "import glob\n",
    "import mysql.connector\n",
    "import datetime\n",
    "from mysql.connector import errorcode\n",
    "from sklearn import preprocessing\n",
    "from sklearn import metrics\n",
    "\n",
    "import matplotlib.pyplot as plt\n",
    "import pandas.core.algorithms as algos\n",
    "from pandas import Series\n",
    "import scipy.stats.stats as stats\n",
    "import re\n",
    "import traceback\n",
    "from datetime import date\n",
    "import string\n",
    "from IPython.display import display, HTML\n",
    "import os.path\n",
    "\n",
    "import matplotlib as matplotlib\n",
    "from decimal import Decimal\n",
    "import math\n",
    "import statistics\n",
    "\n",
    "from os import listdir\n",
    "from os.path import isfile, join\n",
    "\n",
    "from pathlib import Path\n",
    "\n",
    "import warnings\n",
    "warnings.filterwarnings(\"ignore\")"
   ]
  },
  {
   "cell_type": "code",
   "execution_count": 7,
   "metadata": {},
   "outputs": [
    {
     "name": "stdout",
     "output_type": "stream",
     "text": [
      "Введите путь папки, в которой будут лежать все ваши файлы (пример формата C:\\Users\\User\\Documents\\Python Scripts\\IT\\Untitled Folder): C:\\Users\\plaps\\Desktop\\IT\\project\\Untitled Folder\n",
      "Вы ввели 'C:\\Users\\plaps\\Desktop\\IT\\project\\Untitled Folder'\n"
     ]
    }
   ],
   "source": [
    "my_path = input(\"Введите путь папки, в которой будут лежать все ваши файлы (пример формата C:\\\\Users\\\\User\\\\Documents\\\\Python Scripts\\\\IT\\\\Untitled Folder): \")\n",
    "while my_path  == '':\n",
    "    print(\"Ошибка: вы не ввели путь папки\")\n",
    "    my_path = input(\"Введите путь папки, в которой будут лежать все ваши файлы (пример формата C:\\\\Users\\\\User\\\\Documents\\\\Python Scripts\\\\IT\\\\Untitled Folder): \")\n",
    "print(\"Вы ввели '\" + str(my_path)+\"'\")"
   ]
  },
  {
   "cell_type": "markdown",
   "metadata": {},
   "source": [
    "#### Блок Калинина Артёма  и Лапшовой Полины"
   ]
  },
  {
   "cell_type": "code",
   "execution_count": 8,
   "metadata": {},
   "outputs": [],
   "source": [
    "scores_for_vars = pd.read_csv(my_path + '/output_3/scores_for_vars.csv')\n",
    "scores_for_vars = scores_for_vars.drop(['Unnamed: 0'], axis = 1)\n",
    "defaults_stored = pd.read_csv(my_path + '/output_3/defaults_storage.csv')\n",
    "defaults_stored = defaults_stored.drop(['Unnamed: 0'], axis = 1)"
   ]
  },
  {
   "cell_type": "code",
   "execution_count": 9,
   "metadata": {
    "scrolled": true
   },
   "outputs": [
    {
     "data": {
      "text/html": [
       "<div>\n",
       "<style scoped>\n",
       "    .dataframe tbody tr th:only-of-type {\n",
       "        vertical-align: middle;\n",
       "    }\n",
       "\n",
       "    .dataframe tbody tr th {\n",
       "        vertical-align: top;\n",
       "    }\n",
       "\n",
       "    .dataframe thead th {\n",
       "        text-align: right;\n",
       "    }\n",
       "</style>\n",
       "<table border=\"1\" class=\"dataframe\">\n",
       "  <thead>\n",
       "    <tr style=\"text-align: right;\">\n",
       "      <th></th>\n",
       "      <th>id</th>\n",
       "      <th>age</th>\n",
       "      <th>car_owner</th>\n",
       "      <th>children</th>\n",
       "      <th>education</th>\n",
       "      <th>employed_by</th>\n",
       "      <th>family</th>\n",
       "      <th>gender</th>\n",
       "      <th>house_ownership</th>\n",
       "      <th>housing</th>\n",
       "      <th>income</th>\n",
       "      <th>income_type</th>\n",
       "      <th>marital_status</th>\n",
       "      <th>position</th>\n",
       "    </tr>\n",
       "  </thead>\n",
       "  <tbody>\n",
       "    <tr>\n",
       "      <th>0</th>\n",
       "      <td>100009</td>\n",
       "      <td>0.000000</td>\n",
       "      <td>0.0</td>\n",
       "      <td>0.0</td>\n",
       "      <td>0.000000</td>\n",
       "      <td>30.0</td>\n",
       "      <td>0.000000</td>\n",
       "      <td>100.0</td>\n",
       "      <td>100.0</td>\n",
       "      <td>100.0</td>\n",
       "      <td>33.333333</td>\n",
       "      <td>50.000000</td>\n",
       "      <td>0.000000</td>\n",
       "      <td>16.666667</td>\n",
       "    </tr>\n",
       "    <tr>\n",
       "      <th>1</th>\n",
       "      <td>100047</td>\n",
       "      <td>66.666667</td>\n",
       "      <td>100.0</td>\n",
       "      <td>100.0</td>\n",
       "      <td>66.666667</td>\n",
       "      <td>30.0</td>\n",
       "      <td>33.333333</td>\n",
       "      <td>0.0</td>\n",
       "      <td>100.0</td>\n",
       "      <td>100.0</td>\n",
       "      <td>33.333333</td>\n",
       "      <td>50.000000</td>\n",
       "      <td>0.000000</td>\n",
       "      <td>33.333333</td>\n",
       "    </tr>\n",
       "    <tr>\n",
       "      <th>2</th>\n",
       "      <td>100025</td>\n",
       "      <td>0.000000</td>\n",
       "      <td>0.0</td>\n",
       "      <td>0.0</td>\n",
       "      <td>66.666667</td>\n",
       "      <td>0.0</td>\n",
       "      <td>0.000000</td>\n",
       "      <td>100.0</td>\n",
       "      <td>100.0</td>\n",
       "      <td>100.0</td>\n",
       "      <td>33.333333</td>\n",
       "      <td>50.000000</td>\n",
       "      <td>0.000000</td>\n",
       "      <td>50.000000</td>\n",
       "    </tr>\n",
       "    <tr>\n",
       "      <th>3</th>\n",
       "      <td>100064</td>\n",
       "      <td>0.000000</td>\n",
       "      <td>100.0</td>\n",
       "      <td>100.0</td>\n",
       "      <td>66.666667</td>\n",
       "      <td>10.0</td>\n",
       "      <td>66.666667</td>\n",
       "      <td>100.0</td>\n",
       "      <td>0.0</td>\n",
       "      <td>0.0</td>\n",
       "      <td>16.666667</td>\n",
       "      <td>33.333333</td>\n",
       "      <td>16.666667</td>\n",
       "      <td>0.000000</td>\n",
       "    </tr>\n",
       "    <tr>\n",
       "      <th>4</th>\n",
       "      <td>100023</td>\n",
       "      <td>33.333333</td>\n",
       "      <td>100.0</td>\n",
       "      <td>0.0</td>\n",
       "      <td>0.000000</td>\n",
       "      <td>0.0</td>\n",
       "      <td>33.333333</td>\n",
       "      <td>100.0</td>\n",
       "      <td>100.0</td>\n",
       "      <td>100.0</td>\n",
       "      <td>16.666667</td>\n",
       "      <td>0.000000</td>\n",
       "      <td>16.666667</td>\n",
       "      <td>16.666667</td>\n",
       "    </tr>\n",
       "  </tbody>\n",
       "</table>\n",
       "</div>"
      ],
      "text/plain": [
       "       id        age  car_owner  children  education  employed_by     family  \\\n",
       "0  100009   0.000000        0.0       0.0   0.000000         30.0   0.000000   \n",
       "1  100047  66.666667      100.0     100.0  66.666667         30.0  33.333333   \n",
       "2  100025   0.000000        0.0       0.0  66.666667          0.0   0.000000   \n",
       "3  100064   0.000000      100.0     100.0  66.666667         10.0  66.666667   \n",
       "4  100023  33.333333      100.0       0.0   0.000000          0.0  33.333333   \n",
       "\n",
       "   gender  house_ownership  housing     income  income_type  marital_status  \\\n",
       "0   100.0            100.0    100.0  33.333333    50.000000        0.000000   \n",
       "1     0.0            100.0    100.0  33.333333    50.000000        0.000000   \n",
       "2   100.0            100.0    100.0  33.333333    50.000000        0.000000   \n",
       "3   100.0              0.0      0.0  16.666667    33.333333       16.666667   \n",
       "4   100.0            100.0    100.0  16.666667     0.000000       16.666667   \n",
       "\n",
       "    position  \n",
       "0  16.666667  \n",
       "1  33.333333  \n",
       "2  50.000000  \n",
       "3   0.000000  \n",
       "4  16.666667  "
      ]
     },
     "execution_count": 9,
     "metadata": {},
     "output_type": "execute_result"
    }
   ],
   "source": [
    "scores_for_vars.head(5)"
   ]
  },
  {
   "cell_type": "code",
   "execution_count": 10,
   "metadata": {},
   "outputs": [],
   "source": [
    "woe_iv_table = pd.read_csv(my_path + '/output_3/woe_iv_table.csv')\n",
    "woe_iv_table = woe_iv_table.drop(['Unnamed: 0'], axis = 1)"
   ]
  },
  {
   "cell_type": "markdown",
   "metadata": {},
   "source": [
    "## Веса определяются по IV"
   ]
  },
  {
   "cell_type": "code",
   "execution_count": 11,
   "metadata": {
    "scrolled": true
   },
   "outputs": [
    {
     "data": {
      "text/html": [
       "<div>\n",
       "<style scoped>\n",
       "    .dataframe tbody tr th:only-of-type {\n",
       "        vertical-align: middle;\n",
       "    }\n",
       "\n",
       "    .dataframe tbody tr th {\n",
       "        vertical-align: top;\n",
       "    }\n",
       "\n",
       "    .dataframe thead th {\n",
       "        text-align: right;\n",
       "    }\n",
       "</style>\n",
       "<table border=\"1\" class=\"dataframe\">\n",
       "  <thead>\n",
       "    <tr style=\"text-align: right;\">\n",
       "      <th></th>\n",
       "      <th>VAR_NAME</th>\n",
       "      <th>IV</th>\n",
       "    </tr>\n",
       "  </thead>\n",
       "  <tbody>\n",
       "    <tr>\n",
       "      <th>0</th>\n",
       "      <td>age</td>\n",
       "      <td>0.412556</td>\n",
       "    </tr>\n",
       "    <tr>\n",
       "      <th>1</th>\n",
       "      <td>car_owner</td>\n",
       "      <td>0.029488</td>\n",
       "    </tr>\n",
       "    <tr>\n",
       "      <th>2</th>\n",
       "      <td>children</td>\n",
       "      <td>0.063739</td>\n",
       "    </tr>\n",
       "    <tr>\n",
       "      <th>3</th>\n",
       "      <td>education</td>\n",
       "      <td>0.069542</td>\n",
       "    </tr>\n",
       "    <tr>\n",
       "      <th>4</th>\n",
       "      <td>employed_by</td>\n",
       "      <td>0.719720</td>\n",
       "    </tr>\n",
       "    <tr>\n",
       "      <th>5</th>\n",
       "      <td>family</td>\n",
       "      <td>0.110766</td>\n",
       "    </tr>\n",
       "    <tr>\n",
       "      <th>6</th>\n",
       "      <td>gender</td>\n",
       "      <td>0.001368</td>\n",
       "    </tr>\n",
       "    <tr>\n",
       "      <th>7</th>\n",
       "      <td>house_ownership</td>\n",
       "      <td>0.007766</td>\n",
       "    </tr>\n",
       "    <tr>\n",
       "      <th>8</th>\n",
       "      <td>housing</td>\n",
       "      <td>0.008665</td>\n",
       "    </tr>\n",
       "    <tr>\n",
       "      <th>9</th>\n",
       "      <td>income</td>\n",
       "      <td>0.136414</td>\n",
       "    </tr>\n",
       "    <tr>\n",
       "      <th>10</th>\n",
       "      <td>income_type</td>\n",
       "      <td>0.050801</td>\n",
       "    </tr>\n",
       "    <tr>\n",
       "      <th>11</th>\n",
       "      <td>marital_status</td>\n",
       "      <td>0.406809</td>\n",
       "    </tr>\n",
       "    <tr>\n",
       "      <th>12</th>\n",
       "      <td>position</td>\n",
       "      <td>0.157832</td>\n",
       "    </tr>\n",
       "  </tbody>\n",
       "</table>\n",
       "</div>"
      ],
      "text/plain": [
       "           VAR_NAME        IV\n",
       "0               age  0.412556\n",
       "1         car_owner  0.029488\n",
       "2          children  0.063739\n",
       "3         education  0.069542\n",
       "4       employed_by  0.719720\n",
       "5            family  0.110766\n",
       "6            gender  0.001368\n",
       "7   house_ownership  0.007766\n",
       "8           housing  0.008665\n",
       "9            income  0.136414\n",
       "10      income_type  0.050801\n",
       "11   marital_status  0.406809\n",
       "12         position  0.157832"
      ]
     },
     "execution_count": 11,
     "metadata": {},
     "output_type": "execute_result"
    }
   ],
   "source": [
    "IV_table = woe_iv_table[['VAR_NAME', 'IV']].drop_duplicates().copy()\n",
    "IV_table = IV_table.reset_index()\n",
    "IV_table = IV_table.drop(['index'], axis = 1)\n",
    "IV_table"
   ]
  },
  {
   "cell_type": "code",
   "execution_count": null,
   "metadata": {},
   "outputs": [],
   "source": [
    "IV_sort = IV_table.sort_values('IV')\n",
    "iv_scores = np.array(IV_sort['IV'])\n",
    "data_normalizer = matplotlib.colors.Normalize()\n",
    "color_map = matplotlib.colors.LinearSegmentedColormap(\"my_map\",{\"red\": [(0, 1.0, 1.0),(1.0, .5, .5)],\n",
    "                                                                \"green\": [(0, 0.5, 0.5),(1.0, 0, 0)],\n",
    "                                                                \"blue\": [(0, 0.50, 0.5),(1.0, 0, 0)]})\n",
    "\n",
    "N = len(IV_sort['IV'])\n",
    "x_nums = np.arange(1, N+1)\n",
    "\n",
    "fig = plt.figure(1, [14, 8]) \n",
    "plt.barh(x_nums, IV_sort['IV'], align=\"center\", color=color_map(data_normalizer(iv_scores)))\n",
    "plt.yticks(x_nums, IV_sort['VAR_NAME'],  fontweight='bold')\n",
    "for i, v in enumerate(iv_scores):\n",
    "    #v = round(Decimal(v),2)\n",
    "    plt.text(v+0.01, i+0.9, str(round(Decimal(v),2)), color='black',  fontweight='bold')\n",
    "plt.title('IV значения для всех переменных', fontweight='bold')\n",
    "my_file = Path(my_path+'\\\\output_4\\\\IV.png')\n",
    "if my_file.is_file() == False:\n",
    "    plt.savefig(my_path + '\\\\output_4\\\\IV.png', dpi=300, bbox_inches='tight')\n",
    "plt.show()"
   ]
  },
  {
   "cell_type": "code",
   "execution_count": 12,
   "metadata": {},
   "outputs": [],
   "source": [
    "IV_table['predicive_power'] = np.where((IV_table.IV < 0.02), 'useless',\n",
    "                                       np.where((IV_table.IV >= 0.02) & (IV_table.IV <= 0.1), 'weak',\n",
    "                                               np.where((IV_table.IV > 0.1) & (IV_table.IV <= 0.3), 'medium',\n",
    "                                                       np.where((IV_table.IV > 0.3) & (IV_table.IV <= 0.5), 'strong', 'suspicious'))))\n",
    "                                       "
   ]
  },
  {
   "cell_type": "code",
   "execution_count": 13,
   "metadata": {},
   "outputs": [],
   "source": [
    "IV_table = IV_table.sort_values('IV', ascending = False).reset_index(drop=True)"
   ]
  },
  {
   "cell_type": "code",
   "execution_count": 14,
   "metadata": {},
   "outputs": [
    {
     "name": "stdout",
     "output_type": "stream",
     "text": [
      "Вы можете посмотреть на переменные, отсортированные по показателю IV с присвоенной категорией качества предсказания\n"
     ]
    },
    {
     "data": {
      "text/html": [
       "<div>\n",
       "<style scoped>\n",
       "    .dataframe tbody tr th:only-of-type {\n",
       "        vertical-align: middle;\n",
       "    }\n",
       "\n",
       "    .dataframe tbody tr th {\n",
       "        vertical-align: top;\n",
       "    }\n",
       "\n",
       "    .dataframe thead th {\n",
       "        text-align: right;\n",
       "    }\n",
       "</style>\n",
       "<table border=\"1\" class=\"dataframe\">\n",
       "  <thead>\n",
       "    <tr style=\"text-align: right;\">\n",
       "      <th></th>\n",
       "      <th>VAR_NAME</th>\n",
       "      <th>IV</th>\n",
       "      <th>predicive_power</th>\n",
       "    </tr>\n",
       "  </thead>\n",
       "  <tbody>\n",
       "    <tr>\n",
       "      <th>0</th>\n",
       "      <td>employed_by</td>\n",
       "      <td>0.719720</td>\n",
       "      <td>suspicious</td>\n",
       "    </tr>\n",
       "    <tr>\n",
       "      <th>1</th>\n",
       "      <td>age</td>\n",
       "      <td>0.412556</td>\n",
       "      <td>strong</td>\n",
       "    </tr>\n",
       "    <tr>\n",
       "      <th>2</th>\n",
       "      <td>marital_status</td>\n",
       "      <td>0.406809</td>\n",
       "      <td>strong</td>\n",
       "    </tr>\n",
       "    <tr>\n",
       "      <th>3</th>\n",
       "      <td>position</td>\n",
       "      <td>0.157832</td>\n",
       "      <td>medium</td>\n",
       "    </tr>\n",
       "    <tr>\n",
       "      <th>4</th>\n",
       "      <td>income</td>\n",
       "      <td>0.136414</td>\n",
       "      <td>medium</td>\n",
       "    </tr>\n",
       "    <tr>\n",
       "      <th>5</th>\n",
       "      <td>family</td>\n",
       "      <td>0.110766</td>\n",
       "      <td>medium</td>\n",
       "    </tr>\n",
       "    <tr>\n",
       "      <th>6</th>\n",
       "      <td>education</td>\n",
       "      <td>0.069542</td>\n",
       "      <td>weak</td>\n",
       "    </tr>\n",
       "    <tr>\n",
       "      <th>7</th>\n",
       "      <td>children</td>\n",
       "      <td>0.063739</td>\n",
       "      <td>weak</td>\n",
       "    </tr>\n",
       "    <tr>\n",
       "      <th>8</th>\n",
       "      <td>income_type</td>\n",
       "      <td>0.050801</td>\n",
       "      <td>weak</td>\n",
       "    </tr>\n",
       "    <tr>\n",
       "      <th>9</th>\n",
       "      <td>car_owner</td>\n",
       "      <td>0.029488</td>\n",
       "      <td>weak</td>\n",
       "    </tr>\n",
       "    <tr>\n",
       "      <th>10</th>\n",
       "      <td>housing</td>\n",
       "      <td>0.008665</td>\n",
       "      <td>useless</td>\n",
       "    </tr>\n",
       "    <tr>\n",
       "      <th>11</th>\n",
       "      <td>house_ownership</td>\n",
       "      <td>0.007766</td>\n",
       "      <td>useless</td>\n",
       "    </tr>\n",
       "    <tr>\n",
       "      <th>12</th>\n",
       "      <td>gender</td>\n",
       "      <td>0.001368</td>\n",
       "      <td>useless</td>\n",
       "    </tr>\n",
       "  </tbody>\n",
       "</table>\n",
       "</div>"
      ],
      "text/plain": [
       "           VAR_NAME        IV predicive_power\n",
       "0       employed_by  0.719720      suspicious\n",
       "1               age  0.412556          strong\n",
       "2    marital_status  0.406809          strong\n",
       "3          position  0.157832          medium\n",
       "4            income  0.136414          medium\n",
       "5            family  0.110766          medium\n",
       "6         education  0.069542            weak\n",
       "7          children  0.063739            weak\n",
       "8       income_type  0.050801            weak\n",
       "9         car_owner  0.029488            weak\n",
       "10          housing  0.008665         useless\n",
       "11  house_ownership  0.007766         useless\n",
       "12           gender  0.001368         useless"
      ]
     },
     "metadata": {},
     "output_type": "display_data"
    },
    {
     "name": "stdout",
     "output_type": "stream",
     "text": [
      "На основе приведенной выше таблицы вы можете выбрать границу показателя IV как веса для отсечения категории предсказания strong, остальные веса расчитываются автоматически в зависимости от strong \n"
     ]
    }
   ],
   "source": [
    "print(\"Вы можете посмотреть на переменные, отсортированные по показателю IV с присвоенной категорией качества предсказания\")\n",
    "display(IV_table)\n",
    "print(\"На основе приведенной выше таблицы вы можете выбрать границу показателя IV как веса для отсечения категории предсказания strong, остальные веса расчитываются автоматически в зависимости от strong \")"
   ]
  },
  {
   "cell_type": "markdown",
   "metadata": {},
   "source": [
    "##### Предоставим пользовтелю задать вес для переменной с strong predictive power, остальные веса подсчитаются автоматически, при этом medium и weak являются релевантными, useless слабый вес - остальное на suspicious"
   ]
  },
  {
   "cell_type": "code",
   "execution_count": 15,
   "metadata": {},
   "outputs": [
    {
     "data": {
      "text/plain": [
       "weak          4\n",
       "medium        3\n",
       "useless       3\n",
       "strong        2\n",
       "suspicious    1\n",
       "Name: predicive_power, dtype: int64"
      ]
     },
     "execution_count": 15,
     "metadata": {},
     "output_type": "execute_result"
    }
   ],
   "source": [
    "IV_table.predicive_power.value_counts()"
   ]
  },
  {
   "cell_type": "code",
   "execution_count": 16,
   "metadata": {},
   "outputs": [],
   "source": [
    "n_medium = IV_table['predicive_power'].value_counts()['medium']\n",
    "n_weak = IV_table['predicive_power'].value_counts()['weak']\n",
    "n_useless = IV_table['predicive_power'].value_counts()['useless']\n",
    "n_strong = IV_table['predicive_power'].value_counts()['strong']\n",
    "n_suspicious = IV_table['predicive_power'].value_counts()['suspicious']"
   ]
  },
  {
   "cell_type": "code",
   "execution_count": 17,
   "metadata": {},
   "outputs": [],
   "source": [
    "porog = 1/(n_strong+1.5*n_medium)"
   ]
  },
  {
   "cell_type": "code",
   "execution_count": 19,
   "metadata": {},
   "outputs": [
    {
     "name": "stdout",
     "output_type": "stream",
     "text": [
      "Введите вес категории предсказания strong не ниже 0.154 (по умолчанию равен 0.2): 0\n",
      "Ошибка: введено слишком низкое значение для веса переменной в категории strong по силе предсказания\n",
      "Введите вес категории предсказания strong не ниже 0.154 (по умолчанию равен 0.2): 4\n",
      "Вы ввели вес категории предсказания strong равный 4\n"
     ]
    }
   ],
   "source": [
    "strong = input(\"Введите вес категории предсказания strong не ниже {0:.3f} (по умолчанию равен 0.2): \".format(porog))\n",
    "if strong == '':\n",
    "        print(\"Будет задано дефолтное значение 0.2 для категории strong предсказателей\")\n",
    "while str(strong)!='' and float(strong) <= porog:\n",
    "    print('Ошибка: введено слишком низкое значение для веса переменной в категории strong по силе предсказания')\n",
    "    strong = input(\"Введите вес категории предсказания strong не ниже {0:.3f} (по умолчанию равен 0.2): \".format(porog))\n",
    "if strong != '':\n",
    "    print(\"Вы ввели вес категории предсказания strong равный \" + str(strong))\n"
   ]
  },
  {
   "cell_type": "markdown",
   "metadata": {},
   "source": [
    "##### strong = input(\"Введите вес категории предсказания strong (по умолчанию равен 0.2): \")\n",
    "if strong == '':\n",
    "        print(\"Будет задано дефолтное значение 0.2 для категории strong предсказателей\")\n",
    "while str(strong)!='' and int(strong) <= porog:\n",
    "    print('Ошибка: введено слишком низкое значение для веса переменной в категории strong по силе предсказания')\n",
    "    strong = input(\"Введите вес категории предсказания strong (по умолчанию равен 0.2): \")\n",
    "if strong != '':\n",
    "    print(\"Вы ввели вес категории предсказания strong равный \" + str(strong))\n"
   ]
  },
  {
   "cell_type": "code",
   "execution_count": 16,
   "metadata": {},
   "outputs": [],
   "source": [
    "if strong  == '':\n",
    "        strong = float(0.2)\n",
    "else:\n",
    "    strong = float(strong)##Минимильный вес равен 0.12"
   ]
  },
  {
   "cell_type": "code",
   "execution_count": 17,
   "metadata": {},
   "outputs": [],
   "source": [
    "medium = (1 - strong * n_strong)/1.5/n_medium\n",
    "weak = (1 - strong * n_strong - n_medium * medium)/n_weak\n",
    "useless = (1 - strong * n_strong - n_medium * medium  - n_weak * weak)/n_useless\n",
    "suspicious = (1 - strong * n_strong - n_medium *  medium - n_weak * weak - n_useless * useless)/n_suspicious\n",
    "if medium > strong:\n",
    "    print(\"Выберите вес для strong выше\")"
   ]
  },
  {
   "cell_type": "code",
   "execution_count": 18,
   "metadata": {},
   "outputs": [
    {
     "name": "stdout",
     "output_type": "stream",
     "text": [
      "Были установлены следующие веса:\n",
      " strong= 0.2 \n",
      " medium= 0.133 \n",
      " weak= 0.05 \n",
      " useless= 0.00 \n",
      " suspicious= 0.00\n"
     ]
    }
   ],
   "source": [
    "print(\"Были установлены следующие веса:\")\n",
    "print(' strong=', strong, '\\n', 'medium=',  \"{0:.3f}\".format(medium), '\\n', 'weak=', \"{0:.2f}\".format(weak), '\\n',  \n",
    "      'useless=', \"{0:.2f}\".format(useless), '\\n',  'suspicious=', \"{0:.2f}\".format(suspicious))\n",
    "#Такие веса у каждой группы, то есть у каждой группы medium вес 0.11, поэтому данном принте сумма не будет 1"
   ]
  },
  {
   "cell_type": "code",
   "execution_count": 19,
   "metadata": {},
   "outputs": [],
   "source": [
    "for i in ['strong', 'medium', 'weak', 'useless', 'suspicious']:\n",
    "    IV_table.loc[IV_table['predicive_power'] == i, 'weight'] = \"{0:.2f}\".format(globals()[i])"
   ]
  },
  {
   "cell_type": "code",
   "execution_count": 20,
   "metadata": {},
   "outputs": [
    {
     "data": {
      "text/html": [
       "<div>\n",
       "<style scoped>\n",
       "    .dataframe tbody tr th:only-of-type {\n",
       "        vertical-align: middle;\n",
       "    }\n",
       "\n",
       "    .dataframe tbody tr th {\n",
       "        vertical-align: top;\n",
       "    }\n",
       "\n",
       "    .dataframe thead th {\n",
       "        text-align: right;\n",
       "    }\n",
       "</style>\n",
       "<table border=\"1\" class=\"dataframe\">\n",
       "  <thead>\n",
       "    <tr style=\"text-align: right;\">\n",
       "      <th></th>\n",
       "      <th>VAR_NAME</th>\n",
       "      <th>IV</th>\n",
       "      <th>predicive_power</th>\n",
       "      <th>weight</th>\n",
       "    </tr>\n",
       "  </thead>\n",
       "  <tbody>\n",
       "    <tr>\n",
       "      <th>0</th>\n",
       "      <td>employed_by</td>\n",
       "      <td>0.719720</td>\n",
       "      <td>suspicious</td>\n",
       "      <td>0.00</td>\n",
       "    </tr>\n",
       "    <tr>\n",
       "      <th>1</th>\n",
       "      <td>age</td>\n",
       "      <td>0.412556</td>\n",
       "      <td>strong</td>\n",
       "      <td>0.20</td>\n",
       "    </tr>\n",
       "    <tr>\n",
       "      <th>2</th>\n",
       "      <td>marital_status</td>\n",
       "      <td>0.406809</td>\n",
       "      <td>strong</td>\n",
       "      <td>0.20</td>\n",
       "    </tr>\n",
       "    <tr>\n",
       "      <th>3</th>\n",
       "      <td>position</td>\n",
       "      <td>0.157832</td>\n",
       "      <td>medium</td>\n",
       "      <td>0.13</td>\n",
       "    </tr>\n",
       "    <tr>\n",
       "      <th>4</th>\n",
       "      <td>income</td>\n",
       "      <td>0.136414</td>\n",
       "      <td>medium</td>\n",
       "      <td>0.13</td>\n",
       "    </tr>\n",
       "    <tr>\n",
       "      <th>5</th>\n",
       "      <td>family</td>\n",
       "      <td>0.110766</td>\n",
       "      <td>medium</td>\n",
       "      <td>0.13</td>\n",
       "    </tr>\n",
       "    <tr>\n",
       "      <th>6</th>\n",
       "      <td>education</td>\n",
       "      <td>0.069542</td>\n",
       "      <td>weak</td>\n",
       "      <td>0.05</td>\n",
       "    </tr>\n",
       "    <tr>\n",
       "      <th>7</th>\n",
       "      <td>children</td>\n",
       "      <td>0.063739</td>\n",
       "      <td>weak</td>\n",
       "      <td>0.05</td>\n",
       "    </tr>\n",
       "    <tr>\n",
       "      <th>8</th>\n",
       "      <td>income_type</td>\n",
       "      <td>0.050801</td>\n",
       "      <td>weak</td>\n",
       "      <td>0.05</td>\n",
       "    </tr>\n",
       "    <tr>\n",
       "      <th>9</th>\n",
       "      <td>car_owner</td>\n",
       "      <td>0.029488</td>\n",
       "      <td>weak</td>\n",
       "      <td>0.05</td>\n",
       "    </tr>\n",
       "    <tr>\n",
       "      <th>10</th>\n",
       "      <td>housing</td>\n",
       "      <td>0.008665</td>\n",
       "      <td>useless</td>\n",
       "      <td>0.00</td>\n",
       "    </tr>\n",
       "    <tr>\n",
       "      <th>11</th>\n",
       "      <td>house_ownership</td>\n",
       "      <td>0.007766</td>\n",
       "      <td>useless</td>\n",
       "      <td>0.00</td>\n",
       "    </tr>\n",
       "    <tr>\n",
       "      <th>12</th>\n",
       "      <td>gender</td>\n",
       "      <td>0.001368</td>\n",
       "      <td>useless</td>\n",
       "      <td>0.00</td>\n",
       "    </tr>\n",
       "  </tbody>\n",
       "</table>\n",
       "</div>"
      ],
      "text/plain": [
       "           VAR_NAME        IV predicive_power weight\n",
       "0       employed_by  0.719720      suspicious   0.00\n",
       "1               age  0.412556          strong   0.20\n",
       "2    marital_status  0.406809          strong   0.20\n",
       "3          position  0.157832          medium   0.13\n",
       "4            income  0.136414          medium   0.13\n",
       "5            family  0.110766          medium   0.13\n",
       "6         education  0.069542            weak   0.05\n",
       "7          children  0.063739            weak   0.05\n",
       "8       income_type  0.050801            weak   0.05\n",
       "9         car_owner  0.029488            weak   0.05\n",
       "10          housing  0.008665         useless   0.00\n",
       "11  house_ownership  0.007766         useless   0.00\n",
       "12           gender  0.001368         useless   0.00"
      ]
     },
     "execution_count": 20,
     "metadata": {},
     "output_type": "execute_result"
    }
   ],
   "source": [
    "IV_table"
   ]
  },
  {
   "cell_type": "code",
   "execution_count": 21,
   "metadata": {},
   "outputs": [
    {
     "name": "stdout",
     "output_type": "stream",
     "text": [
      "1.0\n"
     ]
    }
   ],
   "source": [
    "print(strong * n_strong + weak * n_weak + n_medium * medium + useless * n_useless + n_suspicious * suspicious)"
   ]
  },
  {
   "cell_type": "code",
   "execution_count": 22,
   "metadata": {},
   "outputs": [],
   "source": [
    "var_names = [\n",
    " 'age',\n",
    " 'car_owner',\n",
    " 'children',\n",
    " 'education',\n",
    " 'employed_by',\n",
    " 'family',\n",
    " 'gender',\n",
    " 'house_ownership',\n",
    " 'housing',\n",
    " 'income',\n",
    " 'income_type',\n",
    " 'marital_status',\n",
    " 'position']\n"
   ]
  },
  {
   "cell_type": "code",
   "execution_count": 23,
   "metadata": {},
   "outputs": [],
   "source": [
    "scores_for_vars_w = scores_for_vars.copy()"
   ]
  },
  {
   "cell_type": "code",
   "execution_count": 24,
   "metadata": {},
   "outputs": [],
   "source": [
    "for i in var_names:\n",
    "    col = IV_table.loc[IV_table['VAR_NAME'] == i, 'predicive_power'].reset_index(drop=True)[0]\n",
    "    if col == 'strong':\n",
    "        scores_for_vars_w[i] = scores_for_vars_w[i]*strong\n",
    "    if col == 'medium':\n",
    "        scores_for_vars_w[i] = scores_for_vars_w[i]*medium\n",
    "    if col == 'weak':\n",
    "        scores_for_vars_w[i] = scores_for_vars_w[i]*weak\n",
    "    if col == 'useless':\n",
    "        scores_for_vars_w[i] = scores_for_vars_w[i]*useless\n",
    "    if col == 'suspicious':\n",
    "        scores_for_vars_w[i] = scores_for_vars_w[i]*suspicious"
   ]
  },
  {
   "cell_type": "code",
   "execution_count": 25,
   "metadata": {},
   "outputs": [],
   "source": [
    "for_scores = scores_for_vars_w.copy()\n",
    "for_scores = for_scores.drop('id', axis = 1)"
   ]
  },
  {
   "cell_type": "code",
   "execution_count": 26,
   "metadata": {},
   "outputs": [],
   "source": [
    "row_scores = [] \n",
    "for i in range(0, for_scores.shape[0]): \n",
    "    row_score = for_scores.iloc[i].sum() \n",
    "    row_scores.append(row_score)\n",
    "scores_for_vars_w['Total_score'] = row_scores"
   ]
  },
  {
   "cell_type": "code",
   "execution_count": 27,
   "metadata": {
    "scrolled": false
   },
   "outputs": [
    {
     "data": {
      "text/plain": [
       "count    60.000000\n",
       "mean     28.958333\n",
       "std      10.142790\n",
       "min       6.388889\n",
       "25%      22.361111\n",
       "50%      27.500000\n",
       "75%      35.555556\n",
       "max      57.500000\n",
       "Name: Total_score, dtype: float64"
      ]
     },
     "execution_count": 27,
     "metadata": {},
     "output_type": "execute_result"
    }
   ],
   "source": [
    "scores_for_vars_w['Total_score'].describe()"
   ]
  },
  {
   "cell_type": "code",
   "execution_count": 28,
   "metadata": {},
   "outputs": [],
   "source": [
    "scores_for_vars_w['id'] = scores_for_vars['id']\n",
    "cols = list(scores_for_vars_w)\n",
    "cols.insert(0, cols.pop(cols.index('id')))\n",
    "scores_for_vars_w = scores_for_vars_w.ix[:, cols]"
   ]
  },
  {
   "cell_type": "code",
   "execution_count": 29,
   "metadata": {
    "scrolled": true
   },
   "outputs": [
    {
     "name": "stdout",
     "output_type": "stream",
     "text": [
      "Таблица весов для каждого параметра и итоговый скоринговый балл по каждому заёмщику\n"
     ]
    },
    {
     "data": {
      "text/html": [
       "<div>\n",
       "<style scoped>\n",
       "    .dataframe tbody tr th:only-of-type {\n",
       "        vertical-align: middle;\n",
       "    }\n",
       "\n",
       "    .dataframe tbody tr th {\n",
       "        vertical-align: top;\n",
       "    }\n",
       "\n",
       "    .dataframe thead th {\n",
       "        text-align: right;\n",
       "    }\n",
       "</style>\n",
       "<table border=\"1\" class=\"dataframe\">\n",
       "  <thead>\n",
       "    <tr style=\"text-align: right;\">\n",
       "      <th></th>\n",
       "      <th>id</th>\n",
       "      <th>age</th>\n",
       "      <th>car_owner</th>\n",
       "      <th>children</th>\n",
       "      <th>education</th>\n",
       "      <th>employed_by</th>\n",
       "      <th>family</th>\n",
       "      <th>gender</th>\n",
       "      <th>house_ownership</th>\n",
       "      <th>housing</th>\n",
       "      <th>income</th>\n",
       "      <th>income_type</th>\n",
       "      <th>marital_status</th>\n",
       "      <th>position</th>\n",
       "      <th>Total_score</th>\n",
       "    </tr>\n",
       "  </thead>\n",
       "  <tbody>\n",
       "    <tr>\n",
       "      <th>0</th>\n",
       "      <td>100009</td>\n",
       "      <td>0.000000</td>\n",
       "      <td>0.0</td>\n",
       "      <td>0.0</td>\n",
       "      <td>0.000000</td>\n",
       "      <td>0.0</td>\n",
       "      <td>0.000000</td>\n",
       "      <td>0.0</td>\n",
       "      <td>0.0</td>\n",
       "      <td>0.0</td>\n",
       "      <td>4.444444</td>\n",
       "      <td>2.500000</td>\n",
       "      <td>0.000000</td>\n",
       "      <td>2.222222</td>\n",
       "      <td>9.166667</td>\n",
       "    </tr>\n",
       "    <tr>\n",
       "      <th>1</th>\n",
       "      <td>100047</td>\n",
       "      <td>13.333333</td>\n",
       "      <td>5.0</td>\n",
       "      <td>5.0</td>\n",
       "      <td>3.333333</td>\n",
       "      <td>0.0</td>\n",
       "      <td>4.444444</td>\n",
       "      <td>0.0</td>\n",
       "      <td>0.0</td>\n",
       "      <td>0.0</td>\n",
       "      <td>4.444444</td>\n",
       "      <td>2.500000</td>\n",
       "      <td>0.000000</td>\n",
       "      <td>4.444444</td>\n",
       "      <td>42.500000</td>\n",
       "    </tr>\n",
       "    <tr>\n",
       "      <th>2</th>\n",
       "      <td>100025</td>\n",
       "      <td>0.000000</td>\n",
       "      <td>0.0</td>\n",
       "      <td>0.0</td>\n",
       "      <td>3.333333</td>\n",
       "      <td>0.0</td>\n",
       "      <td>0.000000</td>\n",
       "      <td>0.0</td>\n",
       "      <td>0.0</td>\n",
       "      <td>0.0</td>\n",
       "      <td>4.444444</td>\n",
       "      <td>2.500000</td>\n",
       "      <td>0.000000</td>\n",
       "      <td>6.666667</td>\n",
       "      <td>16.944444</td>\n",
       "    </tr>\n",
       "    <tr>\n",
       "      <th>3</th>\n",
       "      <td>100064</td>\n",
       "      <td>0.000000</td>\n",
       "      <td>5.0</td>\n",
       "      <td>5.0</td>\n",
       "      <td>3.333333</td>\n",
       "      <td>0.0</td>\n",
       "      <td>8.888889</td>\n",
       "      <td>0.0</td>\n",
       "      <td>0.0</td>\n",
       "      <td>0.0</td>\n",
       "      <td>2.222222</td>\n",
       "      <td>1.666667</td>\n",
       "      <td>3.333333</td>\n",
       "      <td>0.000000</td>\n",
       "      <td>29.444444</td>\n",
       "    </tr>\n",
       "    <tr>\n",
       "      <th>4</th>\n",
       "      <td>100023</td>\n",
       "      <td>6.666667</td>\n",
       "      <td>5.0</td>\n",
       "      <td>0.0</td>\n",
       "      <td>0.000000</td>\n",
       "      <td>0.0</td>\n",
       "      <td>4.444444</td>\n",
       "      <td>0.0</td>\n",
       "      <td>0.0</td>\n",
       "      <td>0.0</td>\n",
       "      <td>2.222222</td>\n",
       "      <td>0.000000</td>\n",
       "      <td>3.333333</td>\n",
       "      <td>2.222222</td>\n",
       "      <td>23.888889</td>\n",
       "    </tr>\n",
       "  </tbody>\n",
       "</table>\n",
       "</div>"
      ],
      "text/plain": [
       "       id        age  car_owner  children  education  employed_by    family  \\\n",
       "0  100009   0.000000        0.0       0.0   0.000000          0.0  0.000000   \n",
       "1  100047  13.333333        5.0       5.0   3.333333          0.0  4.444444   \n",
       "2  100025   0.000000        0.0       0.0   3.333333          0.0  0.000000   \n",
       "3  100064   0.000000        5.0       5.0   3.333333          0.0  8.888889   \n",
       "4  100023   6.666667        5.0       0.0   0.000000          0.0  4.444444   \n",
       "\n",
       "   gender  house_ownership  housing    income  income_type  marital_status  \\\n",
       "0     0.0              0.0      0.0  4.444444     2.500000        0.000000   \n",
       "1     0.0              0.0      0.0  4.444444     2.500000        0.000000   \n",
       "2     0.0              0.0      0.0  4.444444     2.500000        0.000000   \n",
       "3     0.0              0.0      0.0  2.222222     1.666667        3.333333   \n",
       "4     0.0              0.0      0.0  2.222222     0.000000        3.333333   \n",
       "\n",
       "   position  Total_score  \n",
       "0  2.222222     9.166667  \n",
       "1  4.444444    42.500000  \n",
       "2  6.666667    16.944444  \n",
       "3  0.000000    29.444444  \n",
       "4  2.222222    23.888889  "
      ]
     },
     "metadata": {},
     "output_type": "display_data"
    }
   ],
   "source": [
    "print(\"Таблица весов для каждого параметра и итоговый скоринговый балл по каждому заёмщику\")\n",
    "display(scores_for_vars_w.head())"
   ]
  },
  {
   "cell_type": "code",
   "execution_count": 30,
   "metadata": {},
   "outputs": [],
   "source": [
    "roc_for_score = scores_for_vars_w[['Total_score']]"
   ]
  },
  {
   "cell_type": "code",
   "execution_count": 31,
   "metadata": {},
   "outputs": [],
   "source": [
    "roc_for_score['default'] = defaults_stored['default_']"
   ]
  },
  {
   "cell_type": "code",
   "execution_count": 32,
   "metadata": {},
   "outputs": [],
   "source": [
    "def ROC1 (table, var_name, max_tresholds):\n",
    "        less_then_treshold  = 0\n",
    "        more_then_treshold  = 1\n",
    "        TPR = []\n",
    "        FPR = []\n",
    "        defaults_true = list(table.default)\n",
    "        defaults_classified = pd.DataFrame(table[var_name])\n",
    "        tresholds = np.arange(table[[var_name]].min()[0],table[[var_name]].max()[0]+2,\n",
    "                              (table[[var_name]].max()[0]-\n",
    "                               table[[var_name]].min()[0])/(max_tresholds-1))\n",
    "       \n",
    "        for i in tresholds:\n",
    "\n",
    "            TP = 0\n",
    "            TN = 0\n",
    "            FP = 0\n",
    "            FN = 0\n",
    "            \n",
    "            defaults_classified.loc[defaults_classified[var_name] < i, 'defaults_classified'] = less_then_treshold\n",
    "            defaults_classified.loc[defaults_classified[var_name] >= i, 'defaults_classified'] = more_then_treshold\n",
    "            \n",
    "            for j in range(0, len(defaults_classified)):\n",
    "                if defaults_classified['defaults_classified'][j] == 1 and defaults_true[j] == 1:\n",
    "                    TP += 1\n",
    "                if defaults_classified['defaults_classified'][j] == 0 and defaults_true[j] == 0:\n",
    "                    TN += 1\n",
    "                if defaults_classified['defaults_classified'][j] == 1 and defaults_true[j] == 0:\n",
    "                    FP += 1  \n",
    "                if defaults_classified['defaults_classified'][j] == 0 and defaults_true[j] == 1:\n",
    "                    FN += 1\n",
    "\n",
    "            TPR_tr = TP/(TP+FN)\n",
    "            FPR_tr = FP/(FP+TN)\n",
    "            \n",
    "            TPR.append(TPR_tr)\n",
    "            FPR.append(FPR_tr)\n",
    "            \n",
    "        ROC_AUC = metrics.auc(FPR,TPR)\n",
    "        GINI = 2*ROC_AUC-1    \n",
    "        return TPR, FPR, GINI"
   ]
  },
  {
   "cell_type": "code",
   "execution_count": 33,
   "metadata": {},
   "outputs": [
    {
     "name": "stdout",
     "output_type": "stream",
     "text": [
      "Выберите максимальное число порогов для построения ROC-кривой (при больших значениях \n",
      "                    может занять много времени, по умолчанию равен 1000): \n",
      "Будет задано дефолтное значение 1000 для порогов ROC-кривой\n"
     ]
    }
   ],
   "source": [
    "max_tresholds = input(\"\"\"Выберите максимальное число порогов для построения ROC-кривой (при больших значениях \n",
    "                    может занять много времени, по умолчанию равен 1000): \"\"\")\n",
    "if max_tresholds == '':\n",
    "    print(\"Будет задано дефолтное значение 1000 для порогов ROC-кривой\")\n",
    "else:\n",
    "    print(\"Вы ввели максимальное число категорий \" + str(max_tresholds))"
   ]
  },
  {
   "cell_type": "code",
   "execution_count": 34,
   "metadata": {},
   "outputs": [],
   "source": [
    "if max_tresholds  == '':\n",
    "        max_tresholds = 1000\n",
    "else:\n",
    "    max_tresholds = int(max_tresholds)"
   ]
  },
  {
   "cell_type": "code",
   "execution_count": 35,
   "metadata": {},
   "outputs": [
    {
     "data": {
      "image/png": "[encoded data removed]",
      "text/plain": [
       "<Figure size 720x360 with 1 Axes>"
      ]
     },
     "metadata": {
      "needs_background": "light"
     },
     "output_type": "display_data"
    }
   ],
   "source": [
    "var_name = 'Total_score'\n",
    "TPR, FPR, GINI = ROC1(roc_for_score, var_name, max_tresholds)\n",
    "fig = plt.figure(1, [10, 5])        \n",
    "plt.xlabel('False Positive Rate', fontdict=None, labelpad=15)\n",
    "plt.ylabel('True Positive Rate', fontdict=None, labelpad=15)\n",
    "plt.plot([0, 1], [0, 1], color='navy', linestyle='--')\n",
    "plt.xlim([0.0, 1.0])\n",
    "plt.ylim([0.0, 1.05])\n",
    "plt.title('ROC for '+var_name)\n",
    "plt.plot(FPR, TPR, color='blue', lw=2, label='GINI=%0.2f'% GINI)\n",
    "plt.legend(loc=\"lower right\")\n",
    "my_file = Path(my_path+'\\\\output_4\\\\ROC_{0}.png'.format(var_name))\n",
    "if my_file.is_file() == False:\n",
    "    plt.savefig(my_path + '\\\\output_4\\\\ROC_{0}.png'.format(var_name))\n",
    "plt.show()"
   ]
  },
  {
   "cell_type": "code",
   "execution_count": 36,
   "metadata": {},
   "outputs": [],
   "source": [
    "scores_for_vars_w.to_csv(my_path + '\\\\output_4\\\\scores_of_borrowers_vars_and_total.csv',\n",
    "                                      header=True)\n",
    "IV_table.to_csv(my_path + '\\\\output_4\\\\vars_power_of_prediction.csv',\n",
    "                                      header=True)"
   ]
  },
  {
   "cell_type": "code",
   "execution_count": 20,
   "metadata": {},
   "outputs": [
    {
     "name": "stdout",
     "output_type": "stream",
     "text": [
      "part_4 выполнена, показаны IV по всем переменным, присвоены веса переменным, найден общий скоринг каждого заёмщика, построена ROC-кривая, \n",
      "посмотрите на результаты в папке output_4\n"
     ]
    }
   ],
   "source": [
    "print(\"\"\"part_4 выполнена, показаны IV по всем переменным, присвоены веса переменным, найден общий скоринг каждого заёмщика, построена ROC-кривая, \n",
    "посмотрите на результаты в папке output_4\"\"\")"
   ]
  },
  {
   "cell_type": "code",
   "execution_count": null,
   "metadata": {},
   "outputs": [],
   "source": []
  }
 ],
 "metadata": {
  "kernelspec": {
   "display_name": "Python 3",
   "language": "python",
   "name": "python3"
  },
  "language_info": {
   "codemirror_mode": {
    "name": "ipython",
    "version": 3
   },
   "file_extension": ".py",
   "mimetype": "text/x-python",
   "name": "python",
   "nbconvert_exporter": "python",
   "pygments_lexer": "ipython3",
   "version": "3.7.0"
  }
 },
 "nbformat": 4,
 "nbformat_minor": 2
}
